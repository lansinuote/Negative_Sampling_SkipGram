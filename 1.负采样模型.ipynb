{
 "cells": [
  {
   "cell_type": "code",
   "execution_count": 1,
   "id": "35e538ff",
   "metadata": {},
   "outputs": [
    {
     "data": {
      "text/plain": [
       "(557, list, ['q', 'w', 'e', 'r', '$', 't', 'y', 'u', 'i', 'o'])"
      ]
     },
     "execution_count": 1,
     "metadata": {},
     "output_type": "execute_result"
    }
   ],
   "source": [
    "#数据\n",
    "text = [\n",
    "    'q', 'w', 'e', 'r', '$', 't', 'y', 'u', 'i', 'o', '$', 'p', 'a', 's', 'd',\n",
    "    'f', 'g', 'h', 'j', 'k', '$', 'l', 'z', 'x', 'c', '$', 'v', 'b', 'n', 'm',\n",
    "    'q', 'w', 'e', 'a', '$', 's', 'd', 'z', 'x', '$', 'c', 'r', 't', 'y', 'f',\n",
    "    'g', 'h', '$', 'v', 'b', 'n', 'u', 'i', 'o', 'j', '$', 'k', 'l', 'm', 'q',\n",
    "    'a', 'z', 'w', 's', 'x', '$', 'e', 'd', 'c', 'r', 'f', 'v', 't', 'g', '$',\n",
    "    'b', 'y', 'h', 'n', 'u', 'j', 'm', '$', 'i', 'k', 'o', 'l', 'p', 'q', 'w',\n",
    "    'a', 's', '$', 'e', 'r', 'd', 't', 'g', 'h', 'u', 'j', '$', 'o', 'l', 'p',\n",
    "    'z', 'x', 'c', 'v', '$', 'b', 'n', 'm', 'w', 'a', 'e', 's', 'r', '$', 'd',\n",
    "    't', 'f', 'y', 'g', 'u', 'h', '$', 'i', 'j', 'o', 'k', 'p', 'l', 's', 'z',\n",
    "    '$', 'd', 'x', 'f', 'c', 'g', 'v', 'h', 'b', 'j', '$', 'n', 'k', 'm', 'l',\n",
    "    'q', '1', '2', '$', '3', '4', '5', '6', '7', '$', '8', '9', '0', '0', '9',\n",
    "    '8', '$', '7', '6', '5', '4', '$', '3', '2', '1', '1', '2', '$', '2', '3',\n",
    "    '3', '4', '4', '$', '5', '5', '6', '6', '7', '7', '$', '8', '8', '9', '0',\n",
    "    '0', '1', '9', '$', '2', '8', '3', '7', '4', '$', '6', '5', '5', '6', '4',\n",
    "    '7', '3', '8', '$', '2', '9', '1', '0', '1', '2', '3', '2', '$', '3', '4',\n",
    "    '5', '3', '4', '5', '6', '$', '4', '5', '6', '7', '4', '5', '6', '7', '$',\n",
    "    '5', '6', '7', '6', '7', '8', '7', '8', '$', '9', '8', '9', '0', 'Q', 'W',\n",
    "    'E', 'R', 'T', 'Y', 'U', '$', 'I', 'O', 'P', 'A', 'S', 'D', 'F', 'G', '$',\n",
    "    'H', 'J', 'K', 'L', 'Z', 'X', '$', 'C', 'V', 'B', 'N', 'M', 'Q', 'A', 'Z',\n",
    "    'W', 'S', 'X', 'E', 'D', 'C', 'R', 'F', 'V', 'T', 'G', 'B', 'Y', 'H', 'N',\n",
    "    'U', 'J', 'M', 'I', 'K', 'O', 'L', 'P', 'Q', 'A', 'Z', 'W', 'S', 'X', 'I',\n",
    "    'H', 'G', 'V', 'Y', 'T', 'D', 'S', 'D', 'Z', 'S', 'X', 'D', 'C', 'H', 'G',\n",
    "    'H', 'S', 'Y', 'X', 'H', 'K', 'D', 'X', 'H', 'C', 'G', 'H', 'H', 'T', 'X',\n",
    "    'F', 'C', 'G', 'D', 'R', 'X', 'F', 'C', 'G', 'H', 'J', 'D', 'U', 'T', 'S',\n",
    "    'R', 'Y', 'E', 'A', 'T', 'Q', 'E', 'W', 'H', 'D', 'F', 'G', 'L', 'I', 'U',\n",
    "    'G', 'U', 'O', 'G', 'L', 'V', 'G', 'H', 'F', 'X', 'D', 'B', 'C', 'N', 'M',\n",
    "    'X', 'F', 'Z', 'S', 'T', 'Y', 'J', 'H', 'D', 'S', 'E', 'D', 'G', 'T', 'J',\n",
    "    'D', 'S', 'W', 'A', 'Q', 'W', 'D', 'X', 'F', 'T', 'X', 'Z', 'E', 'R', 'D',\n",
    "    'T', 'F', 'H', 'G', 'H', 'K', 'G', 'U', 'F', 'U', 'G', 'P', 'I', 'G', 'L',\n",
    "    'H', 'V', 'M', 'N', 'H', 'C', 'V', 'M', 'F', 'X', 'C', 'F', 'Y', 'T', 'D',\n",
    "    'R', 'F', 'W', 'E', 'A', 'Q', 'W', 'W', 'W', 'S', 'X', 'Z', 'A', 'S', 'X',\n",
    "    'D', 'C', 'F', 'T', 'Y', 'F', 'D', 'E', 'H', 'R', 'T', 'Y', 'G', 'U', 'I',\n",
    "    'L', 'G', 'G', 'V', 'H', 'L', 'I', 'I', 'H', 'L', 'J', 'H', 'K', 'H', 'C',\n",
    "    'G', 'N', 'V', 'M', 'H', 'C', 'N', 'M', 'V', 'F', 'D', 'Y', 'F', 'G', 'H',\n",
    "    'G', 'F', 'D', 'R', 'S', 'E', 'X', 'D', 'W', 'Z', 'Q', 'W', 'Z', 'S', 'D',\n",
    "    'X', 'D', 'Z', 'W', 'Z', 'S', 'D', 'X', 'C', 'F', 'G', 'G', 'X', 'C', 'Y',\n",
    "    'F', 'T', 'G', 'H', 'P', 'G', 'V', 'H', 'J', 'H', 'C', 'V', 'H', 'M', 'C',\n",
    "    'F', 'G'\n",
    "]\n",
    "\n",
    "len(text), type(text), text[:10]"
   ]
  },
  {
   "cell_type": "code",
   "execution_count": 2,
   "id": "9b01d331",
   "metadata": {
    "scrolled": false
   },
   "outputs": [
    {
     "data": {
      "text/plain": [
       "(63, dict, list, 20, 'Y')"
      ]
     },
     "execution_count": 2,
     "metadata": {},
     "output_type": "execute_result"
    }
   ],
   "source": [
    "import collections\n",
    "\n",
    "#字典\n",
    "decoder = {word for word in text}\n",
    "decoder = list(decoder)\n",
    "\n",
    "encoder = {word: i for i, word in enumerate(decoder)}\n",
    "\n",
    "len(encoder), type(encoder), type(decoder), encoder['$'], decoder[43]"
   ]
  },
  {
   "cell_type": "code",
   "execution_count": 3,
   "id": "e54ca665",
   "metadata": {},
   "outputs": [
    {
     "data": {
      "text/plain": [
       "(557, list, [41, 44, 40, 19, 20, 36, 32, 33, 45, 0, 20, 16, 48, 61, 42])"
      ]
     },
     "execution_count": 3,
     "metadata": {},
     "output_type": "execute_result"
    }
   ],
   "source": [
    "#编码数据\n",
    "data = [encoder[word] for word in text]\n",
    "\n",
    "len(data), type(data), data[:15]"
   ]
  },
  {
   "cell_type": "code",
   "execution_count": 4,
   "id": "a21a5cb4",
   "metadata": {},
   "outputs": [
    {
     "data": {
      "text/plain": [
       "(63, list, 0.02916326249312175)"
      ]
     },
     "execution_count": 4,
     "metadata": {},
     "output_type": "execute_result"
    }
   ],
   "source": [
    "#统计词频,这里统计的是编码之后的\n",
    "word_freq = collections.Counter(data)\n",
    "\n",
    "#转字典,方便操作\n",
    "word_freq = {word: count for word, count in word_freq.items()}\n",
    "\n",
    "#词频转词概率\n",
    "word_freq = [word_freq[i] / len(data) for i in range(63)]\n",
    "\n",
    "#词频变换,削峰\n",
    "word_freq = [i**(3 / 4) for i in word_freq]\n",
    "\n",
    "len(word_freq), type(word_freq), word_freq[9]"
   ]
  },
  {
   "cell_type": "code",
   "execution_count": 5,
   "id": "3dabf47b",
   "metadata": {},
   "outputs": [
    {
     "data": {
      "text/plain": [
       "(torch.Size([8]),\n",
       " torch.Size([8, 6]),\n",
       " torch.Size([8, 12]),\n",
       " tensor([35, 56, 19, 12, 50, 20, 56, 26]),\n",
       " tensor([[55, 20,  5, 53, 33, 45],\n",
       "         [54, 21, 54,  4, 52, 38],\n",
       "         [41, 44, 40, 20, 36, 32],\n",
       "         [47, 51, 30, 38,  2, 29],\n",
       "         [ 8, 27, 20,  6, 57, 28],\n",
       "         [24, 50, 28,  6, 57, 57],\n",
       "         [23, 62,  2, 30, 38, 49],\n",
       "         [43,  2, 21,  4,  2, 21]]),\n",
       " tensor([[ 0,  1,  3,  7,  8,  9, 12, 13, 14, 16, 17, 21],\n",
       "         [ 2,  8, 12, 14, 22, 25, 27, 30, 39, 43, 44, 49],\n",
       "         [ 7, 15, 24, 27, 30, 31, 37, 42, 45, 49, 52, 54],\n",
       "         [ 6,  8, 10, 12, 21, 23, 26, 27, 31, 32, 34, 36],\n",
       "         [ 0,  5, 12, 13, 15, 17, 18, 21, 24, 26, 37, 48],\n",
       "         [ 1,  2,  4,  8, 10, 11, 12, 17, 20, 29, 34, 35],\n",
       "         [ 4,  7, 17, 18, 19, 21, 28, 40, 43, 48, 54, 55],\n",
       "         [ 3,  6,  8, 12, 14, 15, 18, 20, 22, 24, 26, 27]]))"
      ]
     },
     "execution_count": 5,
     "metadata": {},
     "output_type": "execute_result"
    }
   ],
   "source": [
    "import torch\n",
    "import numpy as np\n",
    "\n",
    "\n",
    "class Dataset(torch.utils.data.Dataset):\n",
    "    def __init__(self):\n",
    "        super(Dataset, self).__init__()\n",
    "\n",
    "    def __len__(self):\n",
    "        return len(data)\n",
    "\n",
    "    def __getitem__(self, i):\n",
    "        #防止越界\n",
    "        if i < 3:\n",
    "            i = 3\n",
    "        if i > len(data) - 4:\n",
    "            i = len(data) - 4\n",
    "\n",
    "        #x是7个连续词中中间的那个\n",
    "        x = data[i]\n",
    "\n",
    "        #y是剩下的6个词\n",
    "        y = data[i - 3:i + 4]\n",
    "        y.pop(3)\n",
    "        y = torch.LongTensor(y)\n",
    "\n",
    "        #根据词频采样\n",
    "        #replacement=False,不放回采样,也就是说,不会重复\n",
    "        neg = torch.multinomial(input=torch.FloatTensor(word_freq),\n",
    "                                num_samples=12 + 6,\n",
    "                                replacement=False)\n",
    "\n",
    "        #从neg当中去除y,让两者交集为空,最终neg是12个词\n",
    "        neg = np.setdiff1d(neg.numpy(), y.numpy())\n",
    "        neg = neg[:12]\n",
    "        neg = torch.LongTensor(neg)\n",
    "\n",
    "        return x, y, neg\n",
    "\n",
    "\n",
    "dataloader = torch.utils.data.DataLoader(Dataset(),\n",
    "                                         batch_size=8,\n",
    "                                         drop_last=True,\n",
    "                                         shuffle=True)\n",
    "\n",
    "for i, (x, y, neg) in enumerate(dataloader):\n",
    "    break\n",
    "\n",
    "x.shape, y.shape, neg.shape, x, y, neg"
   ]
  },
  {
   "cell_type": "code",
   "execution_count": 6,
   "id": "b5abc9fc",
   "metadata": {},
   "outputs": [
    {
     "data": {
      "text/plain": [
       "tensor(12.4767, grad_fn=<NegBackward>)"
      ]
     },
     "execution_count": 6,
     "metadata": {},
     "output_type": "execute_result"
    }
   ],
   "source": [
    "class Model(torch.nn.Module):\n",
    "    def __init__(self):\n",
    "        super(Model, self).__init__()\n",
    "\n",
    "        #63是词汇量\n",
    "        self.embed = torch.nn.Embedding(num_embeddings=63, embedding_dim=2)\n",
    "\n",
    "        #初始化参数\n",
    "        self.embed.weight.data.uniform_(-0.01, 0.01)\n",
    "\n",
    "    def forward(self, x, y, neg):\n",
    "        #编码\n",
    "        #[8] -> [8, 2]\n",
    "        x = self.embed(x)\n",
    "\n",
    "        #[8, 6] -> [8, 6, 2]\n",
    "        y = self.embed(y)\n",
    "\n",
    "        #[8, 12] -> [8, 12, 2]\n",
    "        neg = self.embed(neg)\n",
    "\n",
    "        #[8, 2] -> [8, 2, 1]\n",
    "        x = x.unsqueeze(dim=2)\n",
    "\n",
    "        #cos(夹角) = x dot y / (n.norm * y.norm)\n",
    "        #cos(夹角) * (n.norm * y.norm) = x dot y\n",
    "        #也就是说,这个loss同时考虑了夹角和向量模长\n",
    "        #cos的取值范围是1到-1之间,当夹角为0时,也就是向量的方向完全一致时cos取最大值1\n",
    "        #[8, 6, 2],[8, 2, 1] -> [8, 6]\n",
    "        loss_y = torch.bmm(y, x).squeeze(dim=2)\n",
    "\n",
    "        #[8, 12, 2],[8, 2, 1] -> [8, 12]\n",
    "        loss_neg = torch.bmm(neg, -x).squeeze(dim=2)\n",
    "\n",
    "        #取sigmoid之后变成概率,取log之后连乘变连加,求和变成联合概率\n",
    "        #[8, 6] -> [8]\n",
    "        loss_y = loss_y.sigmoid().log().sum(dim=1)\n",
    "\n",
    "        #[8, 12] -> [8]\n",
    "        loss_neg = loss_neg.sigmoid().log().sum(dim=1)\n",
    "\n",
    "        #组合两部分的loss\n",
    "        #[8] + [8] -> [1]\n",
    "        loss = (loss_y + loss_neg).mean(dim=0)\n",
    "\n",
    "        return -loss\n",
    "\n",
    "\n",
    "model = Model()\n",
    "\n",
    "out = model(x, y, neg)\n",
    "\n",
    "out"
   ]
  },
  {
   "cell_type": "code",
   "execution_count": 7,
   "id": "3d18c2af",
   "metadata": {},
   "outputs": [
    {
     "name": "stdout",
     "output_type": "stream",
     "text": [
      "a ['a', '2', 'q', 'm', 'h']\n",
      "g ['g', 'O', 'X', '8', 'r']\n",
      "1 ['1', '9', '6', 'T', 'o']\n",
      "5 ['5', 'U', 'b', 'M', 'H']\n",
      "Q ['Q', 'K', 'B', 'v', 'V']\n",
      "H ['H', 'y', 'L', 'P', 'U']\n"
     ]
    }
   ],
   "source": [
    "def test(test_words):\n",
    "    #cos(夹角) * (n.norm * y.norm) = x dot y\n",
    "    #cos(夹角) = x dot y / (n.norm * y.norm)\n",
    "\n",
    "    #W是个把one hot向量投影到词编码空间的矩阵\n",
    "    #提前把W的norm除掉,等于把所有的向量都变成了单位向量\n",
    "    #也就不考虑向量的模长了,只考虑cos(夹角)\n",
    "\n",
    "    #[63, 2]\n",
    "    W = model.embed.weight.data.clone()\n",
    "\n",
    "    #[63, 2] -> [63] -> [63, 1]\n",
    "    norm = W.norm(dim=1).unsqueeze(dim=1)\n",
    "\n",
    "    #[63, 2],[63, 1] -> [63, 2]\n",
    "    W = W / norm\n",
    "\n",
    "    #embed词,这里的两种写法等价\n",
    "    \"\"\"\n",
    "    one_hot = torch.zeros(len(test_words), 63)\n",
    "    for i in range(len(test_words)):\n",
    "        one_hot[i, encoder[test_words[i]]] = 1\n",
    "\n",
    "    x = one_hot.mm(W)\"\"\"\n",
    "    #[6, 2]\n",
    "    ids = [encoder[i] for i in test_words]\n",
    "    x = W[ids]\n",
    "\n",
    "    #cos(夹角) = x dot y\n",
    "    #因为norm之前已经在W里除掉了,所以这里不需要考虑norm\n",
    "    #[6, 2],[2, 63] -> [6, 63]\n",
    "    similarity = torch.mm(x, W.T)\n",
    "\n",
    "    for i in range(len(test_words)):\n",
    "        #取最近的排名前5的词\n",
    "        #argsort函数返回的是数组值从小到大的索引值\n",
    "        topk = (-similarity[i, :]).argsort()[:5]\n",
    "\n",
    "        topk = [decoder[j.item()] for j in topk]\n",
    "\n",
    "        print(test_words[i], topk)\n",
    "\n",
    "\n",
    "test(test_words=['a', 'g', '1', '5', 'Q', 'H'])"
   ]
  },
  {
   "cell_type": "code",
   "execution_count": 8,
   "id": "2d06ab67",
   "metadata": {},
   "outputs": [
    {
     "data": {
      "image/png": "[encoded data removed]",
      "text/plain": [
       "<Figure size 432x288 with 1 Axes>"
      ]
     },
     "metadata": {
      "needs_background": "light"
     },
     "output_type": "display_data"
    }
   ],
   "source": [
    "from matplotlib import pyplot as plt\n",
    "%matplotlib inline\n",
    "\n",
    "\n",
    "def show():\n",
    "\n",
    "    #缩放到0-1空间\n",
    "    W = model.embed.weight.data.clone()\n",
    "    W -= W.min(dim=0).values\n",
    "    W /= W.max(dim=0).values\n",
    "\n",
    "    for word, x in encoder.items():\n",
    "        x = W[x]\n",
    "        plt.text(x[0], x[1], word, fontsize=20)\n",
    "\n",
    "    plt.show()\n",
    "\n",
    "\n",
    "show()"
   ]
  },
  {
   "cell_type": "code",
   "execution_count": null,
   "id": "114c7958",
   "metadata": {
    "scrolled": false
   },
   "outputs": [
    {
     "name": "stderr",
     "output_type": "stream",
     "text": [
      "/root/anaconda3/envs/tt/lib/python3.6/site-packages/torch/autograd/__init__.py:132: UserWarning: CUDA initialization: Found no NVIDIA driver on your system. Please check that you have an NVIDIA GPU and installed a driver from http://www.nvidia.com/Download/index.aspx (Triggered internally at  /pytorch/c10/cuda/CUDAFunctions.cpp:100.)\n",
      "  allow_unreachable=True)  # allow_unreachable flag\n"
     ]
    },
    {
     "name": "stdout",
     "output_type": "stream",
     "text": [
      "0 12.459939956665039\n",
      "a ['a', 'd', 'q', 'l', 'w']\n",
      "g ['g', 'v', 'y', 'u', 'b']\n",
      "1 ['1', '2', 'n', 'i', 'v']\n",
      "5 ['5', 'T', '3', 'Y', '4']\n",
      "Q ['Q', '0', 'E', '9', '8']\n",
      "H ['H', 'G', 'K', 'N', 'J']\n"
     ]
    },
    {
     "data": {
      "image/png": "[encoded data removed]",
      "text/plain": [
       "<Figure size 432x288 with 1 Axes>"
      ]
     },
     "metadata": {
      "needs_background": "light"
     },
     "output_type": "display_data"
    },
    {
     "name": "stdout",
     "output_type": "stream",
     "text": [
      "20 10.471214294433594\n",
      "a ['a', 'p', 'e', 'w', 'r']\n",
      "g ['g', 't', 'f', 's', 'z']\n",
      "1 ['1', '2', '$', '9', '3']\n",
      "5 ['5', '7', '6', '4', '8']\n",
      "Q ['Q', 'W', 'Z', 'A', 'E']\n",
      "H ['H', 'G', 'U', 'J', 'V']\n"
     ]
    },
    {
     "data": {
      "image/png": "[encoded data removed]",
      "text/plain": [
       "<Figure size 432x288 with 1 Axes>"
      ]
     },
     "metadata": {
      "needs_background": "light"
     },
     "output_type": "display_data"
    }
   ],
   "source": [
    "model.train()\n",
    "optimizer = torch.optim.Adam(model.parameters(), lr=2e-3)\n",
    "for epoch in range(201):\n",
    "    for i, (x, y, neg) in enumerate(dataloader):\n",
    "\n",
    "        loss = model(x, y, neg)\n",
    "        optimizer.zero_grad()\n",
    "        loss.backward()\n",
    "        optimizer.step()\n",
    "\n",
    "    if epoch % 20 == 0:\n",
    "        print(epoch, loss.item())\n",
    "        test(test_words=['a', 'g', '1', '5', 'Q', 'H'])\n",
    "        show()"
   ]
  }
 ],
 "metadata": {
  "kernelspec": {
   "display_name": "Python 3",
   "language": "python",
   "name": "python3"
  },
  "language_info": {
   "codemirror_mode": {
    "name": "ipython",
    "version": 3
   },
   "file_extension": ".py",
   "mimetype": "text/x-python",
   "name": "python",
   "nbconvert_exporter": "python",
   "pygments_lexer": "ipython3",
   "version": "3.6.13"
  }
 },
 "nbformat": 4,
 "nbformat_minor": 5
}
