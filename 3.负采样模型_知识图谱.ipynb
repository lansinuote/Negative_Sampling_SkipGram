{
 "cells": [
  {
   "cell_type": "code",
   "execution_count": 1,
   "id": "486de6fa",
   "metadata": {},
   "outputs": [
    {
     "name": "stdout",
     "output_type": "stream",
     "text": [
      "{'0': 0, '1': 1, '2': 2, '3': 3, '4': 4, '5': 5, '6': 6, '7': 7, '8': 8, '9': 9, 'q': 10, 'w': 11, 'e': 12, 'r': 13, 't': 14, 'y': 15, 'u': 16, 'i': 17, 'o': 18, 'p': 19, 'a': 20, 's': 21, 'd': 22, 'f': 23, 'g': 24, 'h': 25, 'j': 26, 'k': 27, 'l': 28, 'z': 29, 'x': 30, 'c': 31, 'v': 32, 'b': 33, 'n': 34, 'm': 35, 'Q': 36, 'W': 37, 'E': 38, 'R': 39, 'T': 40, 'Y': 41, 'U': 42, 'I': 43, 'O': 44, 'P': 45, 'A': 46, 'S': 47, 'D': 48, 'F': 49, 'G': 50, 'H': 51, 'J': 52, 'K': 53, 'L': 54, 'Z': 55, 'X': 56, 'C': 57, 'V': 58, 'B': 59, 'N': 60, 'M': 61, '$': 62}\n",
      "[(16, 25), (60, 37), (2, 7), (9, 3), (8, 6), (55, 41), (51, 59), (35, 58), (61, 44), (51, 44), (61, 38), (14, 33), (50, 12), (13, 19), (42, 47), (55, 41), (58, 43), (47, 44), (20, 19), (4, 49), (7, 4), (61, 58), (46, 44), (35, 20), (18, 23), (60, 44), (36, 50), (33, 16), (5, 5), (16, 19), (18, 24), (3, 9), (50, 50), (9, 4), (29, 32), (9, 2), (53, 49), (37, 51), (38, 44), (22, 37), (39, 51), (7, 7), (44, 56), (49, 49), (36, 42), (3, 0), (50, 45), (1, 8), (30, 31), (37, 41), (59, 45), (58, 37), (30, 15), (4, 8), (16, 32), (24, 23), (47, 42), (41, 42), (27, 14), (3, 6), (4, 1), (30, 11), (8, 3), (50, 47), (31, 22), (37, 0), (48, 47), (51, 56), (32, 11), (5, 2), (38, 41), (51, 44), (58, 37), (57, 11), (1, 3), (43, 54), (19, 31), (8, 4), (60, 53), (38, 43), (31, 19), (3, 0), (55, 51), (6, 7), (48, 46), (33, 27), (57, 47), (8, 8), (47, 60), (56, 49), (7, 7), (12, 15), (15, 13), (54, 55), (60, 48), (34, 23), (27, 24), (36, 40), (41, 41), (0, 4), (30, 32), (18, 19), (34, 19), (41, 59), (48, 46), (48, 42), (46, 53), (18, 31), (19, 10), (48, 44), (8, 0), (7, 7), (0, 7), (7, 0), (0, 0), (51, 34), (56, 55), (9, 5), (20, 15), (3, 4), (13, 24), (42, 54), (56, 61), (40, 42), (60, 42), (36, 55), (50, 37), (3, 4), (57, 56), (47, 43), (58, 40), (1, 1), (55, 44), (61, 39), (40, 41), (4, 0), (28, 62), (45, 43), (4, 2), (42, 43), (18, 33), (49, 51), (58, 50), (14, 10), (37, 43), (47, 61), (38, 44), (59, 39), (47, 55), (24, 17), (39, 45), (28, 12), (25, 20), (28, 12), (57, 46), (32, 18), (38, 45), (8, 0), (48, 50), (29, 26), (38, 48), (59, 5), (52, 49), (11, 21), (45, 58), (60, 61), (2, 28), (21, 17), (41, 40), (25, 13), (0, 2), (60, 53), (41, 47), (57, 53), (12, 13), (50, 53), (5, 5), (19, 32), (6, 5), (41, 53), (57, 48), (3, 1), (28, 28), (15, 19), (37, 49), (43, 47), (25, 28), (50, 49), (55, 42), (45, 52), (22, 22), (56, 42), (50, 52), (36, 52), (37, 50), (5, 2), (3, 0), (7, 0), (16, 14), (40, 36), (61, 50), (42, 39), (1, 6), (53, 40), (36, 52), (15, 35), (52, 13), (4, 6), (46, 47), (40, 55), (57, 44), (43, 43), (54, 43), (27, 28), (6, 9), (45, 61), (38, 51), (39, 38), (58, 40), (7, 8), (33, 17), (9, 4), (38, 57), (0, 7), (44, 50), (15, 20), (8, 3), (4, 4), (16, 31), (59, 56), (48, 50), (56, 42), (36, 45), (53, 49), (41, 44), (3, 7), (22, 8), (21, 32), (39, 56), (43, 40), (39, 57), (6, 39), (22, 29), (23, 31), (9, 8), (7, 5), (19, 30), (49, 39), (15, 23), (13, 27), (55, 43), (13, 11), (12, 22), (2, 2), (21, 13), (0, 8), (34, 10), (30, 33), (50, 39), (14, 27), (34, 29), (60, 50), (37, 56), (61, 51), (4, 2), (5, 3), (54, 49), (26, 20), (41, 59), (2, 7), (5, 3), (28, 24), (52, 52), (2, 9), (1, 4), (51, 37), (32, 12), (38, 46), (9, 2), (47, 49), (40, 51), (58, 36), (46, 56), (38, 2), (18, 15), (35, 23), (61, 36), (44, 51), (46, 59), (33, 24), (8, 1), (13, 24), (42, 57), (7, 0), (29, 27), (34, 12), (11, 14), (7, 6), (6, 2), (40, 38), (5, 4), (35, 13), (31, 28), (42, 48), (10, 24), (29, 35), (52, 41), (57, 58), (47, 42), (56, 56), (1, 3), (60, 56), (9, 5), (27, 29), (13, 13), (48, 14), (60, 39), (4, 3), (0, 6), (1, 1), (4, 3), (61, 58), (9, 9), (3, 6), (61, 60), (32, 10), (43, 36), (22, 27), (41, 61), (48, 59), (23, 22), (17, 43), (8, 21), (52, 49), (37, 43), (20, 21), (56, 47), (36, 47), (48, 50), (4, 6), (54, 47), (4, 6), (29, 35), (21, 23), (56, 48), (53, 54), (9, 3), (40, 48), (31, 10), (36, 45), (24, 22), (60, 55), (5, 7), (7, 6), (49, 43), (47, 59), (38, 50), (26, 14), (59, 38), (32, 17), (11, 19), (52, 56), (58, 53), (55, 61), (37, 47), (14, 24), (44, 50), (1, 1), (2, 7), (5, 6), (25, 31), (53, 50), (58, 42), (17, 24), (56, 37), (17, 23), (4, 5), (0, 4), (60, 46), (24, 23), (18, 29), (22, 10), (2, 3), (44, 39), (9, 7), (50, 41), (57, 45), (37, 41), (38, 26), (2, 3), (0, 7), (60, 49), (22, 10), (37, 50), (47, 47), (7, 5), (8, 0), (41, 39), (62, 37), (61, 34), (49, 30), (53, 49), (14, 8), (14, 12), (43, 51), (36, 60), (7, 6), (56, 46), (22, 32), (61, 53), (43, 57), (1, 5), (20, 18), (43, 56), (53, 46), (42, 53), (38, 59), (19, 10), (20, 21), (38, 50), (5, 57), (54, 44), (5, 5), (35, 61), (12, 34), (7, 7), (39, 46), (6, 9), (37, 38), (0, 8), (36, 58), (3, 5), (35, 26), (3, 1), (39, 53), (55, 56), (30, 19), (44, 60), (7, 1), (44, 53), (11, 34), (61, 39), (45, 44), (41, 51), (4, 1), (33, 29), (53, 53), (51, 49), (17, 11), (0, 1)]\n"
     ]
    }
   ],
   "source": [
    "import random\n",
    "\n",
    "\n",
    "def get_vocab():\n",
    "    node_numbers = ['0', '1', '2', '3', '4', '5', '6', '7', '8', '9']\n",
    "    node_lowers = [\n",
    "        'q', 'w', 'e', 'r', 't', 'y', 'u', 'i', 'o', 'p', 'a', 's', 'd', 'f',\n",
    "        'g', 'h', 'j', 'k', 'l', 'z', 'x', 'c', 'v', 'b', 'n', 'm'\n",
    "    ]\n",
    "    node_upper = [\n",
    "        'Q', 'W', 'E', 'R', 'T', 'Y', 'U', 'I', 'O', 'P', 'A', 'S', 'D', 'F',\n",
    "        'G', 'H', 'J', 'K', 'L', 'Z', 'X', 'C', 'V', 'B', 'N', 'M'\n",
    "    ]\n",
    "\n",
    "    nodes = node_numbers + node_lowers + node_upper + ['$']\n",
    "\n",
    "    edges = []\n",
    "    for i in range(100):\n",
    "        n1 = random.choice(node_numbers)\n",
    "        n2 = random.choice(node_numbers)\n",
    "        edges.append((n1, n2))\n",
    "\n",
    "    for i in range(100):\n",
    "        n1 = random.choice(node_lowers)\n",
    "        n2 = random.choice(node_lowers)\n",
    "        edges.append((n1, n2))\n",
    "\n",
    "    for i in range(200):\n",
    "        n1 = random.choice(node_upper)\n",
    "        n2 = random.choice(node_upper)\n",
    "        edges.append((n1, n2))\n",
    "\n",
    "    for i in range(50):\n",
    "        n1 = random.choice(nodes)\n",
    "        n2 = random.choice(nodes)\n",
    "        edges.append((n1, n2))\n",
    "\n",
    "    random.shuffle(edges)\n",
    "\n",
    "    #编码\n",
    "    nodes = {name: i for i, name in enumerate(nodes)}\n",
    "    edges = [(nodes[i[0]], nodes[i[1]]) for i in edges]\n",
    "\n",
    "    return nodes, edges\n",
    "\n",
    "\n",
    "nodes, edges = get_vocab()\n",
    "\n",
    "print(nodes)\n",
    "print(edges)"
   ]
  },
  {
   "cell_type": "code",
   "execution_count": 2,
   "id": "06d772b2",
   "metadata": {},
   "outputs": [
    {
     "data": {
      "text/plain": [
       "(tensor([[39, 51],\n",
       "         [39, 51],\n",
       "         [48, 50],\n",
       "         [48, 50],\n",
       "         [ 7,  0],\n",
       "         [ 7,  0],\n",
       "         [36, 58],\n",
       "         [36, 58]]),\n",
       " tensor([[14, 51],\n",
       "         [39,  8],\n",
       "         [ 8, 50],\n",
       "         [48,  0],\n",
       "         [11,  0],\n",
       "         [ 7, 43],\n",
       "         [24, 58],\n",
       "         [36, 36]]))"
      ]
     },
     "execution_count": 2,
     "metadata": {},
     "output_type": "execute_result"
    }
   ],
   "source": [
    "import torch\n",
    "\n",
    "\n",
    "def get_datas():\n",
    "    samples = random.sample(edges, 4)\n",
    "\n",
    "    positive = []\n",
    "    negative = []\n",
    "    for i in samples:\n",
    "        n1, n2 = i\n",
    "        while (n1, n2) in edges:\n",
    "            n1 = random.randint(0, len(nodes) - 1)\n",
    "        negative.append((n1, n2))\n",
    "\n",
    "        n1, n2 = i\n",
    "        while (n1, n2) in edges:\n",
    "            n2 = random.randint(0, len(nodes) - 1)\n",
    "        negative.append((n1, n2))\n",
    "\n",
    "        positive.append(i)\n",
    "        positive.append(i)\n",
    "\n",
    "    positive = torch.LongTensor(positive)\n",
    "    negative = torch.LongTensor(negative)\n",
    "\n",
    "    return positive, negative\n",
    "\n",
    "\n",
    "positive, negative = get_datas()\n",
    "\n",
    "positive, negative"
   ]
  },
  {
   "cell_type": "code",
   "execution_count": 3,
   "id": "6a5580ff",
   "metadata": {},
   "outputs": [
    {
     "data": {
      "text/plain": [
       "tensor(0.8960)"
      ]
     },
     "execution_count": 3,
     "metadata": {},
     "output_type": "execute_result"
    }
   ],
   "source": [
    "def get_cos_loss(positive, negative):\n",
    "    #positive -> [8, 2, 2]\n",
    "    #negative -> [8, 2, 2]\n",
    "\n",
    "    #[8, 1, 2]\n",
    "    positive_n1 = positive[:, 0].unsqueeze(dim=1)\n",
    "    #[8, 2, 1]\n",
    "    positive_n2 = positive[:, 1].unsqueeze(dim=2)\n",
    "\n",
    "    #[8, 1, 2],[8, 2, 1] -> [8]\n",
    "    loss_positive = torch.bmm(positive_n1, positive_n2).squeeze()\n",
    "\n",
    "    #[8, 1, 2]\n",
    "    negative_n1 = negative[:, 0].unsqueeze(dim=1)\n",
    "    #[8, 2, 1]\n",
    "    negative_n2 = negative[:, 1].unsqueeze(dim=2)\n",
    "\n",
    "    #[8, 1, 2],[8, 2, 1] -> [8]\n",
    "    loss_negative = torch.bmm(negative_n1, -negative_n2).squeeze()\n",
    "\n",
    "    #[8, 2] -> [8]\n",
    "    loss_positive = loss_positive.sigmoid().log()\n",
    "\n",
    "    #[8, 2] -> [8]\n",
    "    loss_negative = loss_negative.sigmoid().log()\n",
    "\n",
    "    return -(loss_positive + loss_negative).mean()\n",
    "\n",
    "\n",
    "a, b = torch.randn(8, 2, 2), torch.randn(8, 2, 2)\n",
    "get_cos_loss(a, b)"
   ]
  },
  {
   "cell_type": "code",
   "execution_count": 4,
   "id": "e78c6165",
   "metadata": {},
   "outputs": [
    {
     "data": {
      "text/plain": [
       "tensor(1.3863, grad_fn=<NegBackward0>)"
      ]
     },
     "execution_count": 4,
     "metadata": {},
     "output_type": "execute_result"
    }
   ],
   "source": [
    "class Model(torch.nn.Module):\n",
    "\n",
    "    def __init__(self):\n",
    "        super().__init__()\n",
    "\n",
    "        #V是词汇量\n",
    "        self.embed = torch.nn.Embedding(num_embeddings=len(nodes),\n",
    "                                        embedding_dim=2)\n",
    "\n",
    "        #初始化参数\n",
    "        self.embed.weight.data.uniform_(-0.01, 0.01)\n",
    "\n",
    "    def forward(self, positive, negative):\n",
    "        #编码\n",
    "        #[8, 6] -> [8, 6, 2]\n",
    "        positive = self.embed(positive)\n",
    "\n",
    "        #[8, 12] -> [8, 12, 2]\n",
    "        negative = self.embed(negative)\n",
    "\n",
    "        return get_cos_loss(positive, negative)\n",
    "\n",
    "\n",
    "model = Model()\n",
    "\n",
    "model(positive, negative)"
   ]
  },
  {
   "cell_type": "code",
   "execution_count": 5,
   "id": "9deee50a",
   "metadata": {},
   "outputs": [
    {
     "name": "stdout",
     "output_type": "stream",
     "text": [
      "a ['a', 'b', '9', 'N', 'O']\n",
      "g ['g', 'f', 'Q', 'l', '3']\n",
      "1 ['1', '5', 'R', 'l', 'G']\n",
      "5 ['5', '1', 'R', 'l', 'G']\n",
      "Q ['Q', 'f', '3', 'g', 'u']\n",
      "H ['H', 'P', 'r', 'M', 'i']\n"
     ]
    }
   ],
   "source": [
    "def test(test_words):\n",
    "    embed = model.embed.weight.data.clone()\n",
    "\n",
    "    for word in test_words:\n",
    "        x = embed[nodes[word]]\n",
    "        score = torch.nn.functional.cosine_similarity(x, embed)\n",
    "        topk = score.topk(k=5).indices\n",
    "        topk = [list(nodes.keys())[k] for k in topk]\n",
    "        print(word, topk)\n",
    "\n",
    "\n",
    "test(['a', 'g', '1', '5', 'Q', 'H'])"
   ]
  },
  {
   "cell_type": "code",
   "execution_count": 6,
   "id": "c88eaa71",
   "metadata": {
    "scrolled": true
   },
   "outputs": [
    {
     "name": "stdout",
     "output_type": "stream",
     "text": [
      "0 1.386298656463623\n",
      "a ['a', 'r', 'H', 'P', 'M']\n",
      "g ['g', 'f', 'Q', 'l', '3']\n",
      "1 ['1', 'R', 'l', 'G', 'o']\n",
      "5 ['5', 'I', 'K', 'p', 'o']\n",
      "Q ['Q', 'f', '3', 'g', 'u']\n",
      "H ['H', 'P', 'r', 'M', 's']\n",
      "5000 5172.9236615002155\n",
      "a ['a', 'k', 'g', 'r', 'y']\n",
      "g ['g', 'k', 'a', 'r', 'y']\n",
      "1 ['1', '3', '9', '2', '6']\n",
      "5 ['5', '7', '4', '0', '6']\n",
      "Q ['Q', 'U', 'N', 'D', 'O']\n",
      "H ['H', 'G', 'I', 'Z', 'N']\n",
      "10000 4638.480019137263\n",
      "a ['a', 'k', 'v', 'q', 'g']\n",
      "g ['g', 'v', 'k', 'a', 'h']\n",
      "1 ['1', '2', '9', '3', '0']\n",
      "5 ['5', '4', '6', '7', '0']\n",
      "Q ['Q', 'T', 'I', 'L', 'D']\n",
      "H ['H', 'D', 'Z', 'Q', 'P']\n",
      "15000 4687.34239295125\n",
      "a ['a', 'p', 'k', 'q', 'o']\n",
      "g ['g', 'b', 'h', 'f', 'd']\n",
      "1 ['1', '3', '7', '9', '0']\n",
      "5 ['5', '6', '4', '0', '7']\n",
      "Q ['Q', 'P', 'T', 'I', 'G']\n",
      "H ['H', 'L', 'U', 'D', 'Y']\n",
      "20000 4639.494001954794\n",
      "a ['a', 'h', 'u', 'y', 'g']\n",
      "g ['g', 'v', 'c', 'h', 'a']\n",
      "1 ['1', '7', '3', '2', '0']\n",
      "5 ['5', '6', '4', '0', '3']\n",
      "Q ['Q', 'M', 'P', 'T', 'G']\n",
      "H ['H', 'D', 'I', 'G', 'L']\n"
     ]
    }
   ],
   "source": [
    "def train():\n",
    "    global model\n",
    "    device = 'cuda' if torch.cuda.is_available() else 'cpu'\n",
    "    model = model.to(device)\n",
    "\n",
    "    model.train()\n",
    "    optimizer = torch.optim.Adam(model.parameters(), lr=2e-3)\n",
    "    loss_sum = 0\n",
    "    for epoch in range(20001):\n",
    "        positive, negative = get_datas()\n",
    "        positive = positive.to(device)\n",
    "        negative = negative.to(device)\n",
    "\n",
    "        loss = model(positive, negative)\n",
    "        optimizer.zero_grad()\n",
    "        loss.backward()\n",
    "        optimizer.step()\n",
    "\n",
    "        loss_sum += loss.item()\n",
    "\n",
    "        if epoch % 5000 == 0:\n",
    "            print(epoch, loss_sum)\n",
    "            test(['a', 'g', '1', '5', 'Q', 'H'])\n",
    "            loss_sum = 0\n",
    "\n",
    "    model = model.cpu()\n",
    "\n",
    "\n",
    "train()"
   ]
  },
  {
   "cell_type": "code",
   "execution_count": 7,
   "id": "8b37e710",
   "metadata": {},
   "outputs": [
    {
     "data": {
      "image/png": "[encoded data removed]",
      "text/plain": [
       "<Figure size 640x480 with 1 Axes>"
      ]
     },
     "metadata": {},
     "output_type": "display_data"
    }
   ],
   "source": [
    "from matplotlib import pyplot as plt\n",
    "%matplotlib inline\n",
    "\n",
    "\n",
    "def show():\n",
    "\n",
    "    #缩放到0-1空间\n",
    "    W = model.embed.weight.data.clone()\n",
    "    W -= W.min(dim=0).values\n",
    "    W /= W.max(dim=0).values\n",
    "\n",
    "    for word, x in nodes.items():\n",
    "        x = W[x]\n",
    "        plt.text(x[0], x[1], word, fontsize=20)\n",
    "\n",
    "    plt.show()\n",
    "\n",
    "\n",
    "show()"
   ]
  }
 ],
 "metadata": {
  "kernelspec": {
   "display_name": "Python 3 (ipykernel)",
   "language": "python",
   "name": "python3"
  },
  "language_info": {
   "codemirror_mode": {
    "name": "ipython",
    "version": 3
   },
   "file_extension": ".py",
   "mimetype": "text/x-python",
   "name": "python",
   "nbconvert_exporter": "python",
   "pygments_lexer": "ipython3",
   "version": "3.9.13"
  }
 },
 "nbformat": 4,
 "nbformat_minor": 5
}
