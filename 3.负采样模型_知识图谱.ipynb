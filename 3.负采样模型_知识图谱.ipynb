{
 "cells": [
  {
   "cell_type": "code",
   "execution_count": 1,
   "id": "486de6fa",
   "metadata": {},
   "outputs": [
    {
     "name": "stdout",
     "output_type": "stream",
     "text": [
      "{'0': 0, '1': 1, '2': 2, '3': 3, '4': 4, '5': 5, '6': 6, '7': 7, '8': 8, '9': 9, 'q': 10, 'w': 11, 'e': 12, 'r': 13, 't': 14, 'y': 15, 'u': 16, 'i': 17, 'o': 18, 'p': 19, 'a': 20, 's': 21, 'd': 22, 'f': 23, 'g': 24, 'h': 25, 'j': 26, 'k': 27, 'l': 28, 'z': 29, 'x': 30, 'c': 31, 'v': 32, 'b': 33, 'n': 34, 'm': 35, 'Q': 36, 'W': 37, 'E': 38, 'R': 39, 'T': 40, 'Y': 41, 'U': 42, 'I': 43, 'O': 44, 'P': 45, 'A': 46, 'S': 47, 'D': 48, 'F': 49, 'G': 50, 'H': 51, 'J': 52, 'K': 53, 'L': 54, 'Z': 55, 'X': 56, 'C': 57, 'V': 58, 'B': 59, 'N': 60, 'M': 61, '$': 62}\n",
      "[(41, 47), (27, 10), (33, 32), (35, 30), (15, 28), (54, 47), (47, 57), (38, 48), (0, 5), (44, 46), (18, 10), (48, 36), (24, 16), (48, 50), (6, 6), (49, 60), (33, 25), (6, 2), (23, 15), (5, 8), (26, 21), (52, 49), (26, 16), (19, 20), (6, 2), (43, 58), (1, 9), (36, 42), (16, 29), (46, 57), (9, 5), (36, 49), (55, 44), (42, 44), (18, 35), (42, 50), (54, 60), (57, 42), (18, 17), (23, 31), (35, 21), (45, 59), (39, 55), (19, 25), (1, 1), (8, 7), (27, 30), (55, 57), (5, 4), (12, 14), (4, 1), (53, 53), (36, 50), (47, 49), (47, 42), (53, 45), (25, 11), (60, 55), (33, 24), (32, 30), (21, 27), (38, 58), (0, 6), (51, 48), (60, 43), (44, 51), (56, 18), (56, 57), (11, 20), (57, 56), (37, 24), (11, 61), (58, 41), (53, 46), (52, 52), (0, 6), (48, 44), (7, 9), (18, 10), (44, 52), (17, 35), (1, 1), (5, 0), (17, 35), (36, 39), (60, 40), (6, 3), (40, 41), (7, 2), (60, 55), (15, 11), (2, 7), (36, 44), (8, 0), (44, 1), (29, 15), (5, 3), (10, 23), (40, 49), (37, 57), (61, 56), (31, 23), (29, 28), (44, 61), (47, 38), (2, 6), (31, 21), (1, 3), (57, 60), (7, 4), (0, 9), (0, 5), (29, 54), (7, 12), (51, 9), (59, 43), (6, 8), (46, 58), (42, 54), (21, 13), (14, 10), (31, 33), (36, 53), (5, 1), (43, 60), (46, 46), (41, 38), (42, 41), (14, 27), (53, 38), (49, 54), (11, 49), (57, 47), (54, 59), (58, 61), (36, 37), (4, 9), (44, 57), (10, 10), (50, 53), (15, 16), (58, 54), (38, 38), (0, 0), (59, 43), (17, 30), (21, 39), (29, 57), (16, 31), (44, 45), (4, 2), (39, 55), (57, 45), (55, 27), (53, 53), (43, 50), (40, 56), (36, 46), (7, 0), (4, 0), (57, 59), (16, 10), (57, 59), (60, 37), (24, 15), (0, 3), (14, 21), (8, 2), (57, 52), (15, 26), (55, 37), (34, 35), (5, 3), (57, 53), (6, 1), (47, 51), (36, 42), (3, 8), (29, 30), (15, 18), (59, 59), (52, 56), (38, 37), (21, 19), (52, 60), (8, 1), (33, 26), (46, 42), (41, 58), (59, 56), (45, 60), (31, 32), (48, 60), (17, 31), (37, 36), (31, 19), (24, 31), (6, 9), (35, 10), (38, 59), (4, 7), (4, 4), (53, 57), (41, 57), (0, 9), (57, 61), (47, 54), (9, 9), (53, 52), (46, 44), (31, 16), (25, 14), (5, 2), (32, 61), (0, 8), (30, 11), (52, 50), (45, 40), (40, 56), (55, 61), (54, 59), (57, 54), (32, 30), (61, 26), (30, 21), (55, 50), (14, 20), (40, 37), (56, 50), (55, 52), (18, 26), (56, 40), (52, 56), (28, 11), (33, 13), (36, 53), (50, 60), (59, 49), (50, 42), (39, 60), (58, 46), (50, 41), (3, 8), (57, 54), (46, 51), (12, 21), (5, 6), (43, 50), (0, 1), (21, 31), (4, 5), (45, 43), (14, 32), (61, 47), (13, 18), (3, 8), (5, 7), (44, 54), (58, 51), (8, 8), (47, 49), (28, 31), (54, 50), (7, 5), (3, 8), (27, 12), (7, 0), (9, 2), (0, 5), (19, 30), (4, 9), (36, 36), (43, 56), (24, 11), (9, 20), (44, 41), (11, 19), (39, 61), (45, 55), (57, 38), (34, 13), (27, 28), (0, 7), (48, 45), (0, 1), (60, 37), (11, 19), (23, 25), (59, 41), (49, 0), (34, 37), (60, 58), (55, 48), (39, 43), (9, 6), (58, 54), (54, 43), (27, 60), (3, 8), (20, 18), (7, 1), (27, 33), (42, 51), (38, 58), (49, 56), (53, 59), (9, 2), (56, 56), (6, 1), (51, 60), (49, 60), (14, 18), (37, 52), (0, 8), (7, 0), (7, 4), (15, 19), (7, 8), (55, 44), (56, 5), (21, 15), (39, 59), (8, 2), (9, 8), (29, 18), (8, 4), (31, 12), (49, 49), (44, 39), (38, 52), (15, 21), (54, 42), (32, 26), (44, 36), (43, 50), (42, 54), (41, 41), (28, 14), (60, 54), (60, 45), (28, 12), (26, 25), (50, 45), (6, 0), (61, 4), (24, 35), (31, 0), (56, 51), (1, 9), (5, 7), (2, 8), (7, 41), (56, 47), (54, 49), (2, 2), (10, 46), (34, 21), (51, 38), (2, 1), (33, 17), (46, 37), (9, 6), (56, 58), (8, 9), (40, 39), (19, 34), (3, 4), (36, 53), (9, 12), (42, 40), (36, 55), (2, 2), (27, 17), (44, 37), (45, 10), (43, 41), (2, 2), (55, 44), (48, 48), (19, 28), (1, 9), (2, 19), (5, 0), (24, 31), (31, 25), (48, 37), (49, 54), (49, 51), (57, 25), (44, 57), (6, 0), (5, 6), (49, 52), (59, 55), (59, 49), (13, 35), (8, 8), (5, 9), (8, 59), (9, 2), (33, 11), (59, 39), (49, 40), (58, 40), (3, 61), (61, 54), (43, 39), (52, 37), (6, 1), (26, 29), (7, 0), (34, 11), (36, 18), (37, 59), (5, 5), (48, 50), (11, 21), (48, 54), (53, 38), (53, 45), (62, 11), (9, 0), (19, 23), (60, 38), (46, 56), (59, 39), (56, 59), (44, 61), (48, 51), (26, 18), (6, 9), (3, 1), (45, 49), (59, 38), (0, 16), (27, 10), (37, 44), (58, 54), (37, 55), (48, 42), (2, 7), (54, 11), (48, 42), (25, 29), (9, 7), (42, 46), (59, 60), (0, 8), (8, 3), (12, 11)]\n"
     ]
    }
   ],
   "source": [
    "import random\n",
    "\n",
    "\n",
    "def get_vocab():\n",
    "    node_numbers = '0123456789'\n",
    "    node_lowers = 'qwertyuiopasdfghjklzxcvbnm'\n",
    "    node_upper = 'QWERTYUIOPASDFGHJKLZXCVBNM'\n",
    "\n",
    "    node = node_numbers + node_lowers + node_upper + '$'\n",
    "\n",
    "    edge = []\n",
    "    for i in range(100):\n",
    "        n1 = random.choice(node_numbers)\n",
    "        n2 = random.choice(node_numbers)\n",
    "        edge.append((n1, n2))\n",
    "\n",
    "    for i in range(100):\n",
    "        n1 = random.choice(node_lowers)\n",
    "        n2 = random.choice(node_lowers)\n",
    "        edge.append((n1, n2))\n",
    "\n",
    "    for i in range(200):\n",
    "        n1 = random.choice(node_upper)\n",
    "        n2 = random.choice(node_upper)\n",
    "        edge.append((n1, n2))\n",
    "\n",
    "    for i in range(50):\n",
    "        n1 = random.choice(node)\n",
    "        n2 = random.choice(node)\n",
    "        edge.append((n1, n2))\n",
    "\n",
    "    random.shuffle(edge)\n",
    "\n",
    "    #编码\n",
    "    node = {name: i for i, name in enumerate(node)}\n",
    "    edge = [(node[i[0]], node[i[1]]) for i in edge]\n",
    "\n",
    "    return node, edge\n",
    "\n",
    "\n",
    "node, edge = get_vocab()\n",
    "\n",
    "print(node)\n",
    "print(edge)"
   ]
  },
  {
   "cell_type": "code",
   "execution_count": 2,
   "id": "06d772b2",
   "metadata": {},
   "outputs": [
    {
     "data": {
      "text/plain": [
       "(tensor([[31, 23],\n",
       "         [31, 23],\n",
       "         [11, 61],\n",
       "         [11, 61],\n",
       "         [25, 14],\n",
       "         [25, 14],\n",
       "         [27, 28],\n",
       "         [27, 28]]),\n",
       " tensor([[ 4, 23],\n",
       "         [31, 20],\n",
       "         [ 8, 61],\n",
       "         [11, 47],\n",
       "         [30, 14],\n",
       "         [25, 49],\n",
       "         [36, 28],\n",
       "         [27, 45]]))"
      ]
     },
     "execution_count": 2,
     "metadata": {},
     "output_type": "execute_result"
    }
   ],
   "source": [
    "import torch\n",
    "\n",
    "\n",
    "def get_batch():\n",
    "    sample = random.sample(edge, 4)\n",
    "\n",
    "    pos = []\n",
    "    neg = []\n",
    "    for i in sample:\n",
    "        n1, n2 = i\n",
    "        while (n1, n2) in edge:\n",
    "            n1 = random.randint(0, len(node) - 1)\n",
    "        neg.append((n1, n2))\n",
    "\n",
    "        n1, n2 = i\n",
    "        while (n1, n2) in edge:\n",
    "            n2 = random.randint(0, len(node) - 1)\n",
    "        neg.append((n1, n2))\n",
    "\n",
    "        pos.append(i)\n",
    "        pos.append(i)\n",
    "\n",
    "    pos = torch.LongTensor(pos)\n",
    "    neg = torch.LongTensor(neg)\n",
    "\n",
    "    return pos, neg\n",
    "\n",
    "\n",
    "get_batch()"
   ]
  },
  {
   "cell_type": "code",
   "execution_count": 3,
   "id": "6a5580ff",
   "metadata": {},
   "outputs": [
    {
     "data": {
      "text/plain": [
       "tensor(2.3560)"
      ]
     },
     "execution_count": 3,
     "metadata": {},
     "output_type": "execute_result"
    }
   ],
   "source": [
    "def get_cos_loss(pos, neg):\n",
    "    #pos -> [8, 2, 2]\n",
    "    #neg -> [8, 2, 2]\n",
    "\n",
    "    #[8, 1, 2]\n",
    "    pos_n1 = pos[:, 0].unsqueeze(dim=1)\n",
    "    #[8, 2, 1]\n",
    "    pos_n2 = pos[:, 1].unsqueeze(dim=2)\n",
    "\n",
    "    #[8, 1, 2],[8, 2, 1] -> [8]\n",
    "    loss_pos = torch.bmm(pos_n1, pos_n2).squeeze()\n",
    "\n",
    "    #[8, 1, 2]\n",
    "    neg_n1 = neg[:, 0].unsqueeze(dim=1)\n",
    "    #[8, 2, 1]\n",
    "    neg_n2 = neg[:, 1].unsqueeze(dim=2)\n",
    "\n",
    "    #[8, 1, 2],[8, 2, 1] -> [8]\n",
    "    loss_neg = torch.bmm(neg_n1, -neg_n2).squeeze()\n",
    "\n",
    "    #[8, 2] -> [8]\n",
    "    loss_pos = loss_pos.sigmoid().log()\n",
    "\n",
    "    #[8, 2] -> [8]\n",
    "    loss_neg = loss_neg.sigmoid().log()\n",
    "\n",
    "    return -(loss_pos + loss_neg).mean()\n",
    "\n",
    "\n",
    "a, b = torch.randn(8, 2, 2), torch.randn(8, 2, 2)\n",
    "get_cos_loss(a, b)"
   ]
  },
  {
   "cell_type": "code",
   "execution_count": 4,
   "id": "e78c6165",
   "metadata": {},
   "outputs": [
    {
     "data": {
      "text/plain": [
       "tensor(1.3863, grad_fn=<NegBackward0>)"
      ]
     },
     "execution_count": 4,
     "metadata": {},
     "output_type": "execute_result"
    }
   ],
   "source": [
    "class Model(torch.nn.Module):\n",
    "\n",
    "    def __init__(self):\n",
    "        super().__init__()\n",
    "\n",
    "        #V是词汇量\n",
    "        self.embed = torch.nn.Embedding(num_embeddings=len(node),\n",
    "                                        embedding_dim=2)\n",
    "\n",
    "        #初始化参数\n",
    "        self.embed.weight.data.uniform_(-0.01, 0.01)\n",
    "\n",
    "    def forward(self, pos, neg):\n",
    "        #编码\n",
    "        #[8, 6] -> [8, 6, 2]\n",
    "        pos = self.embed(pos)\n",
    "\n",
    "        #[8, 12] -> [8, 12, 2]\n",
    "        neg = self.embed(neg)\n",
    "\n",
    "        return get_cos_loss(pos, neg)\n",
    "\n",
    "\n",
    "model = Model()\n",
    "\n",
    "model(*get_batch())"
   ]
  },
  {
   "cell_type": "code",
   "execution_count": 5,
   "id": "9deee50a",
   "metadata": {},
   "outputs": [
    {
     "name": "stdout",
     "output_type": "stream",
     "text": [
      "a ['a', '$', 'z', 'o', 'W']\n",
      "g ['g', 'j', 'F', 'b', 'r']\n",
      "1 ['1', 'Q', 'X', 'M', 'D']\n",
      "5 ['5', '3', 'E', 'R', 'm']\n",
      "Q ['Q', 'X', '1', 'M', 'D']\n",
      "H ['H', 'w', '9', 'p', 'U']\n"
     ]
    }
   ],
   "source": [
    "def test(test_words):\n",
    "    embed = model.embed.weight.data.clone()\n",
    "\n",
    "    for word in test_words:\n",
    "        x = embed[node[word]]\n",
    "        score = torch.nn.functional.cosine_similarity(x, embed)\n",
    "        topk = score.topk(k=5).indices\n",
    "        topk = [list(node.keys())[k] for k in topk]\n",
    "        print(word, topk)\n",
    "\n",
    "\n",
    "test(['a', 'g', '1', '5', 'Q', 'H'])"
   ]
  },
  {
   "cell_type": "code",
   "execution_count": 6,
   "id": "c88eaa71",
   "metadata": {
    "scrolled": true
   },
   "outputs": [
    {
     "name": "stdout",
     "output_type": "stream",
     "text": [
      "0 1.3863022327423096\n",
      "a ['a', 'r', '$', 'z', 'o']\n",
      "g ['g', 'j', 'F', 'b', 'B']\n",
      "1 ['1', 'N', 'K', 'Q', 'V']\n",
      "5 ['5', '3', 'E', 'S', 'm']\n",
      "Q ['Q', 'X', 'D', 'i', 'w']\n",
      "H ['H', '9', 'p', 'v', 'U']\n",
      "5000 5349.830901950598\n",
      "a ['a', 'd', 'c', 'p', 'u']\n",
      "g ['g', 'i', 'h', 'j', 'n']\n",
      "1 ['1', '7', '8', '0', '5']\n",
      "5 ['5', '8', '1', '9', '7']\n",
      "Q ['Q', 'A', 'M', 'R', 'L']\n",
      "H ['H', 'F', 'Y', 'B', 'E']\n",
      "10000 4710.985986799002\n",
      "a ['a', 'u', 'e', 'c', 'p']\n",
      "g ['g', 'd', 'v', 'j', 'h']\n",
      "1 ['1', '5', '8', '3', '9']\n",
      "5 ['5', '8', '1', '3', '9']\n",
      "Q ['Q', 'W', 'A', 'Z', 'R']\n",
      "H ['H', 'B', 'Y', 'F', 'X']\n",
      "15000 4709.044643640518\n",
      "a ['a', 'u', 'c', 'e', 'p']\n",
      "g ['g', 'j', '$', 'i', 's']\n",
      "1 ['1', '8', '5', '3', '4']\n",
      "5 ['5', '1', '8', '3', '4']\n",
      "Q ['Q', 'Z', 'W', 'L', 'P']\n",
      "H ['H', 'Y', 'B', 'X', 'F']\n",
      "20000 4671.361401081085\n",
      "a ['a', 'c', 'u', 'e', 'p']\n",
      "g ['g', 'w', 'n', 'j', '$']\n",
      "1 ['1', '8', '5', '7', '4']\n",
      "5 ['5', '8', '1', '7', '4']\n",
      "Q ['Q', 'W', 'A', 'M', 'Z']\n",
      "H ['H', 'Y', 'B', 'X', 'F']\n"
     ]
    }
   ],
   "source": [
    "def train():\n",
    "    global model\n",
    "    device = 'cuda' if torch.cuda.is_available() else 'cpu'\n",
    "    model = model.to(device)\n",
    "\n",
    "    model.train()\n",
    "    optimizer = torch.optim.Adam(model.parameters(), lr=2e-3)\n",
    "    loss_sum = 0\n",
    "    for epoch in range(20001):\n",
    "        batch = get_batch()\n",
    "        batch = [i.to(device) for i in batch]\n",
    "\n",
    "        loss = model(*batch)\n",
    "        optimizer.zero_grad()\n",
    "        loss.backward()\n",
    "        optimizer.step()\n",
    "\n",
    "        loss_sum += loss.item()\n",
    "\n",
    "        if epoch % 5000 == 0:\n",
    "            print(epoch, loss_sum)\n",
    "            test(['a', 'g', '1', '5', 'Q', 'H'])\n",
    "            loss_sum = 0\n",
    "\n",
    "    model = model.cpu()\n",
    "\n",
    "\n",
    "train()"
   ]
  },
  {
   "cell_type": "code",
   "execution_count": 7,
   "id": "8b37e710",
   "metadata": {},
   "outputs": [
    {
     "data": {
      "image/png": "[encoded data removed]",
      "text/plain": [
       "<Figure size 640x480 with 1 Axes>"
      ]
     },
     "metadata": {},
     "output_type": "display_data"
    }
   ],
   "source": [
    "from matplotlib import pyplot as plt\n",
    "%matplotlib inline\n",
    "\n",
    "\n",
    "def show():\n",
    "\n",
    "    #缩放到0-1空间\n",
    "    embed = model.embed.weight.data.clone()\n",
    "    embed -= embed.min(dim=0).values\n",
    "    embed /= embed.max(dim=0).values\n",
    "\n",
    "    for word, x in node.items():\n",
    "        x = embed[x]\n",
    "        plt.text(x[0], x[1], word, fontsize=20)\n",
    "\n",
    "    plt.show()\n",
    "\n",
    "\n",
    "show()"
   ]
  }
 ],
 "metadata": {
  "kernelspec": {
   "display_name": "Python 3 (ipykernel)",
   "language": "python",
   "name": "python3"
  },
  "language_info": {
   "codemirror_mode": {
    "name": "ipython",
    "version": 3
   },
   "file_extension": ".py",
   "mimetype": "text/x-python",
   "name": "python",
   "nbconvert_exporter": "python",
   "pygments_lexer": "ipython3",
   "version": "3.9.13"
  }
 },
 "nbformat": 4,
 "nbformat_minor": 5
}
