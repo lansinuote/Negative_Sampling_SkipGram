{
 "cells": [
  {
   "cell_type": "code",
   "execution_count": 1,
   "metadata": {
    "colab": {},
    "colab_type": "code",
    "id": "_tFy4avjAavZ"
   },
   "outputs": [
    {
     "name": "stderr",
     "output_type": "stream",
     "text": [
      "[nltk_data] Downloading package wordnet to /root/nltk_data...\n",
      "[nltk_data]   Package wordnet is already up-to-date!\n"
     ]
    },
    {
     "data": {
      "text/plain": [
       "True"
      ]
     },
     "execution_count": 1,
     "metadata": {},
     "output_type": "execute_result"
    }
   ],
   "source": [
    "import nltk\n",
    "\n",
    "#下载wordnet\n",
    "nltk.download('wordnet')"
   ]
  },
  {
   "cell_type": "code",
   "execution_count": 2,
   "metadata": {
    "colab": {},
    "colab_type": "code",
    "id": "XEwlT4Q5Blvf",
    "scrolled": true
   },
   "outputs": [
    {
     "data": {
      "text/plain": [
       "[Synset('girl.n.01'),\n",
       " Synset('female_child.n.01'),\n",
       " Synset('daughter.n.01'),\n",
       " Synset('girlfriend.n.02'),\n",
       " Synset('girl.n.05')]"
      ]
     },
     "execution_count": 2,
     "metadata": {},
     "output_type": "execute_result"
    }
   ],
   "source": [
    "from nltk.corpus import wordnet\n",
    "\n",
    "#一个单词往往有多个意思\n",
    "#单词.词性.词义序号\n",
    "wordnet.synsets('girl')"
   ]
  },
  {
   "cell_type": "code",
   "execution_count": 3,
   "metadata": {},
   "outputs": [
    {
     "name": "stdout",
     "output_type": "stream",
     "text": [
      "a\n",
      "s\n",
      "r\n",
      "n\n",
      "v\n"
     ]
    }
   ],
   "source": [
    "#所有词性\n",
    "print(wordnet.ADJ)\n",
    "print(wordnet.ADJ_SAT)\n",
    "print(wordnet.ADV)\n",
    "print(wordnet.NOUN)\n",
    "print(wordnet.VERB)"
   ]
  },
  {
   "cell_type": "code",
   "execution_count": 4,
   "metadata": {},
   "outputs": [
    {
     "data": {
      "text/plain": [
       "[Synset('chase.v.01')]"
      ]
     },
     "execution_count": 4,
     "metadata": {},
     "output_type": "execute_result"
    }
   ],
   "source": [
    "#指定词性\n",
    "wordnet.synsets('dog', pos='v')"
   ]
  },
  {
   "cell_type": "code",
   "execution_count": 5,
   "metadata": {},
   "outputs": [
    {
     "name": "stdout",
     "output_type": "stream",
     "text": [
      "a young woman\n",
      "Synset('girl.n.01') a young woman\n",
      "Synset('female_child.n.01') a youthful female person\n",
      "Synset('daughter.n.01') a female human offspring\n",
      "Synset('girlfriend.n.02') a girl or young woman with whom a man is romantically involved\n",
      "Synset('girl.n.05') a friendly informal reference to a grown woman\n"
     ]
    }
   ],
   "source": [
    "#查看每个词的意思\n",
    "print(wordnet.synset('girl.n.01').definition())\n",
    "\n",
    "for i in wordnet.synsets('girl'):\n",
    "    print(i, i.definition())"
   ]
  },
  {
   "cell_type": "code",
   "execution_count": 6,
   "metadata": {},
   "outputs": [
    {
     "data": {
      "text/plain": [
       "(['girl', 'miss', 'missy', 'young_lady', 'young_woman', 'fille'],\n",
       " [Lemma('girl.n.01.girl'),\n",
       "  Lemma('girl.n.01.miss'),\n",
       "  Lemma('girl.n.01.missy'),\n",
       "  Lemma('girl.n.01.young_lady'),\n",
       "  Lemma('girl.n.01.young_woman'),\n",
       "  Lemma('girl.n.01.fille')])"
      ]
     },
     "execution_count": 6,
     "metadata": {},
     "output_type": "execute_result"
    }
   ],
   "source": [
    "#根据意思找词\n",
    "wordnet.synset('girl.n.01').lemma_names(), wordnet.synset('girl.n.01').lemmas()"
   ]
  },
  {
   "cell_type": "code",
   "execution_count": 7,
   "metadata": {},
   "outputs": [
    {
     "data": {
      "text/plain": [
       "[Synset('woman.n.01')]"
      ]
     },
     "execution_count": 7,
     "metadata": {},
     "output_type": "execute_result"
    }
   ],
   "source": [
    "#找一个词的上位词\n",
    "wordnet.synset('girl.n.01').hypernyms()"
   ]
  },
  {
   "cell_type": "code",
   "execution_count": 8,
   "metadata": {},
   "outputs": [
    {
     "data": {
      "text/plain": [
       "[Synset('baby.n.05'),\n",
       " Synset('belle.n.01'),\n",
       " Synset('bimbo.n.01'),\n",
       " Synset('chachka.n.01'),\n",
       " Synset('chit.n.01'),\n",
       " Synset('colleen.n.01'),\n",
       " Synset('dame.n.01'),\n",
       " Synset('flapper.n.01'),\n",
       " Synset('gal.n.03'),\n",
       " Synset('gamine.n.02'),\n",
       " Synset('gibson_girl.n.01'),\n",
       " Synset('lass.n.01'),\n",
       " Synset('maid.n.02'),\n",
       " Synset('may_queen.n.01'),\n",
       " Synset('mill-girl.n.01'),\n",
       " Synset('party_girl.n.01'),\n",
       " Synset('peri.n.01'),\n",
       " Synset('ring_girl.n.01'),\n",
       " Synset('rosebud.n.02'),\n",
       " Synset('sex_kitten.n.01'),\n",
       " Synset('shop_girl.n.01'),\n",
       " Synset('soubrette.n.01'),\n",
       " Synset('sweater_girl.n.01'),\n",
       " Synset('tomboy.n.01'),\n",
       " Synset('valley_girl.n.01'),\n",
       " Synset('working_girl.n.01')]"
      ]
     },
     "execution_count": 8,
     "metadata": {},
     "output_type": "execute_result"
    }
   ],
   "source": [
    "#找一个词的下位词\n",
    "wordnet.synset('girl.n.01').hyponyms()"
   ]
  },
  {
   "cell_type": "code",
   "execution_count": 9,
   "metadata": {},
   "outputs": [
    {
     "data": {
      "text/plain": [
       "0.2"
      ]
     },
     "execution_count": 9,
     "metadata": {},
     "output_type": "execute_result"
    }
   ],
   "source": [
    "#求两个词之间的相似度,0-1之间\n",
    "cat = wordnet.synset('cat.n.01')\n",
    "dog = wordnet.synset('dog.n.01')\n",
    "\n",
    "dog.path_similarity(cat)"
   ]
  },
  {
   "cell_type": "code",
   "execution_count": 10,
   "metadata": {},
   "outputs": [
    {
     "data": {
      "text/plain": [
       "[Synset('carnivore.n.01')]"
      ]
     },
     "execution_count": 10,
     "metadata": {},
     "output_type": "execute_result"
    }
   ],
   "source": [
    "#求两个词的最低共同祖先\n",
    "dog.lowest_common_hypernyms(cat)"
   ]
  },
  {
   "cell_type": "code",
   "execution_count": 11,
   "metadata": {},
   "outputs": [
    {
     "data": {
      "text/plain": [
       "[Synset('step.v.01')]"
      ]
     },
     "execution_count": 11,
     "metadata": {},
     "output_type": "execute_result"
    }
   ],
   "source": [
    "#动词求蕴含词\n",
    "wordnet.synset('walk.v.01').entailments()"
   ]
  },
  {
   "cell_type": "code",
   "execution_count": 12,
   "metadata": {},
   "outputs": [
    {
     "data": {
      "text/plain": [
       "[Lemma('cold.a.01.cold')]"
      ]
     },
     "execution_count": 12,
     "metadata": {},
     "output_type": "execute_result"
    }
   ],
   "source": [
    "#求反义词\n",
    "wordnet.lemma('hot.a.01.hot').antonyms()"
   ]
  },
  {
   "cell_type": "code",
   "execution_count": 13,
   "metadata": {},
   "outputs": [
    {
     "data": {
      "text/plain": [
       "(86555,\n",
       " ['',\n",
       "  'backblast',\n",
       "  'kubrick',\n",
       "  'puppy',\n",
       "  'housebreaker',\n",
       "  'by-and-by',\n",
       "  'run-down',\n",
       "  'formed',\n",
       "  'sternpost',\n",
       "  'lentibulariaceae',\n",
       "  'culinary',\n",
       "  'discocephali',\n",
       "  'ironwood',\n",
       "  'freestanding',\n",
       "  'clinical'])"
      ]
     },
     "execution_count": 13,
     "metadata": {},
     "output_type": "execute_result"
    }
   ],
   "source": [
    "#全体词表,取出主词,去重\n",
    "nodes = list({i.name().split('.')[0] for i in wordnet.all_synsets()})\n",
    "\n",
    "len(nodes), nodes[:15]"
   ]
  },
  {
   "cell_type": "code",
   "execution_count": 14,
   "metadata": {},
   "outputs": [
    {
     "data": {
      "text/plain": [
       "(147306,\n",
       " ['.22-caliber',\n",
       "  '.22-calibre',\n",
       "  '.22_caliber',\n",
       "  '.22_calibre',\n",
       "  '.38-caliber',\n",
       "  '.38-calibre',\n",
       "  '.38_caliber',\n",
       "  '.38_calibre',\n",
       "  '.45-caliber',\n",
       "  '.45-calibre',\n",
       "  '.45_caliber',\n",
       "  '.45_calibre',\n",
       "  '0',\n",
       "  '1',\n",
       "  '10'])"
      ]
     },
     "execution_count": 14,
     "metadata": {},
     "output_type": "execute_result"
    }
   ],
   "source": [
    "#全体可能的同义词\n",
    "#all_lemma_names是无重复的\n",
    "lemmas = list(wordnet.all_lemma_names())\n",
    "\n",
    "len(lemmas), lemmas[:15]"
   ]
  },
  {
   "cell_type": "code",
   "execution_count": 15,
   "metadata": {},
   "outputs": [
    {
     "data": {
      "text/plain": [
       "(147311,\n",
       " ['',\n",
       "  'hemimetabolism',\n",
       "  'backblast',\n",
       "  'robert_lowell',\n",
       "  'russian_wolfhound',\n",
       "  'kubrick',\n",
       "  'board_of_directors',\n",
       "  'subserviently',\n",
       "  'ardea_herodius',\n",
       "  'puppy',\n",
       "  'housebreaker',\n",
       "  'by-and-by',\n",
       "  'captain_john_smith',\n",
       "  'chromium-plate',\n",
       "  'fritillaria_agrestis'])"
      ]
     },
     "execution_count": 15,
     "metadata": {},
     "output_type": "execute_result"
    }
   ],
   "source": [
    "#合并nodes和lemmas,其实nodes基本上是lemmas的子集,只多了4个词\n",
    "nodes = list(set(nodes + lemmas))\n",
    "\n",
    "len(nodes), nodes[:15]"
   ]
  },
  {
   "cell_type": "code",
   "execution_count": 16,
   "metadata": {},
   "outputs": [],
   "source": [
    "#所有的关系\n",
    "edges = [\n",
    "    'hypernyms', 'hyponyms', 'instance_hyponyms', 'member_meronyms',\n",
    "    'part_meronyms', 'topic_domains', 'usage_domains', 'region_domains',\n",
    "    'attributes', 'entailments', 'causes', 'also_sees', 'verb_groups',\n",
    "    'similar_tos', 'lemma_names'\n",
    "]"
   ]
  },
  {
   "cell_type": "code",
   "execution_count": 17,
   "metadata": {},
   "outputs": [
    {
     "name": "stdout",
     "output_type": "stream",
     "text": [
      "node= Synset('girl.n.01')\n",
      "edge= hypernyms [Synset('woman.n.01')]\n",
      "edge= hyponyms [Synset('baby.n.05'), Synset('belle.n.01'), Synset('bimbo.n.01'), Synset('chachka.n.01'), Synset('chit.n.01'), Synset('colleen.n.01'), Synset('dame.n.01'), Synset('flapper.n.01'), Synset('gal.n.03'), Synset('gamine.n.02'), Synset('gibson_girl.n.01'), Synset('lass.n.01'), Synset('maid.n.02'), Synset('may_queen.n.01'), Synset('mill-girl.n.01'), Synset('party_girl.n.01'), Synset('peri.n.01'), Synset('ring_girl.n.01'), Synset('rosebud.n.02'), Synset('sex_kitten.n.01'), Synset('shop_girl.n.01'), Synset('soubrette.n.01'), Synset('sweater_girl.n.01'), Synset('tomboy.n.01'), Synset('valley_girl.n.01'), Synset('working_girl.n.01')]\n",
      "edge= instance_hyponyms []\n",
      "edge= member_meronyms []\n",
      "edge= part_meronyms []\n",
      "edge= topic_domains []\n",
      "edge= usage_domains []\n",
      "edge= region_domains []\n",
      "edge= attributes []\n",
      "edge= entailments []\n",
      "edge= causes []\n",
      "edge= also_sees []\n",
      "edge= verb_groups []\n",
      "edge= similar_tos []\n",
      "edge= lemma_names ['girl', 'miss', 'missy', 'young_lady', 'young_woman', 'fille']\n",
      "---------------\n",
      "node= Synset('female_child.n.01')\n",
      "edge= hypernyms [Synset('female.n.02')]\n",
      "edge= hyponyms [Synset('campfire_girl.n.01'), Synset('farm_girl.n.01'), Synset('flower_girl.n.02'), Synset('moppet.n.01'), Synset('schoolgirl.n.01'), Synset('scout.n.02')]\n",
      "edge= instance_hyponyms []\n",
      "edge= member_meronyms []\n",
      "edge= part_meronyms []\n",
      "edge= topic_domains []\n",
      "edge= usage_domains []\n",
      "edge= region_domains []\n",
      "edge= attributes []\n",
      "edge= entailments []\n",
      "edge= causes []\n",
      "edge= also_sees []\n",
      "edge= verb_groups []\n",
      "edge= similar_tos []\n",
      "edge= lemma_names ['female_child', 'girl', 'little_girl']\n",
      "---------------\n",
      "node= Synset('daughter.n.01')\n",
      "edge= hypernyms [Synset('female_offspring.n.01')]\n",
      "edge= hyponyms [Synset('mother's_daughter.n.01')]\n",
      "edge= instance_hyponyms []\n",
      "edge= member_meronyms []\n",
      "edge= part_meronyms []\n",
      "edge= topic_domains []\n",
      "edge= usage_domains []\n",
      "edge= region_domains []\n",
      "edge= attributes []\n",
      "edge= entailments []\n",
      "edge= causes []\n",
      "edge= also_sees []\n",
      "edge= verb_groups []\n",
      "edge= similar_tos []\n",
      "edge= lemma_names ['daughter', 'girl']\n",
      "---------------\n",
      "node= Synset('girlfriend.n.02')\n",
      "edge= hypernyms [Synset('lover.n.01'), Synset('woman.n.01')]\n",
      "edge= hyponyms []\n",
      "edge= instance_hyponyms []\n",
      "edge= member_meronyms []\n",
      "edge= part_meronyms []\n",
      "edge= topic_domains []\n",
      "edge= usage_domains []\n",
      "edge= region_domains []\n",
      "edge= attributes []\n",
      "edge= entailments []\n",
      "edge= causes []\n",
      "edge= also_sees []\n",
      "edge= verb_groups []\n",
      "edge= similar_tos []\n",
      "edge= lemma_names ['girlfriend', 'girl', 'lady_friend']\n",
      "---------------\n",
      "node= Synset('girl.n.05')\n",
      "edge= hypernyms [Synset('woman.n.01')]\n",
      "edge= hyponyms []\n",
      "edge= instance_hyponyms []\n",
      "edge= member_meronyms []\n",
      "edge= part_meronyms []\n",
      "edge= topic_domains []\n",
      "edge= usage_domains []\n",
      "edge= region_domains []\n",
      "edge= attributes []\n",
      "edge= entailments []\n",
      "edge= causes []\n",
      "edge= also_sees []\n",
      "edge= verb_groups []\n",
      "edge= similar_tos []\n",
      "edge= lemma_names ['girl']\n",
      "---------------\n"
     ]
    }
   ],
   "source": [
    "#输出图谱\n",
    "for node in wordnet.synsets('girl'):\n",
    "    print('node=', node)\n",
    "    for edge in edges:\n",
    "        print('edge=', edge, getattr(node, edge)())\n",
    "\n",
    "    print('---------------')"
   ]
  },
  {
   "cell_type": "code",
   "execution_count": 24,
   "metadata": {},
   "outputs": [
    {
     "name": "stdout",
     "output_type": "stream",
     "text": [
      "lemma= Lemma('girl.n.01.girl')\n",
      "edge= derivationally_related_forms target= girlhood\n",
      "---------------\n",
      "lemma= Lemma('female_child.n.01.girl')\n",
      "edge= antonyms target= boy\n",
      "edge= derivationally_related_forms target= girlhood\n",
      "---------------\n",
      "lemma= Lemma('daughter.n.01.girl')\n",
      "edge= antonyms target= boy\n",
      "---------------\n",
      "lemma= Lemma('girlfriend.n.02.girl')\n",
      "---------------\n",
      "lemma= Lemma('girl.n.05.girl')\n",
      "---------------\n"
     ]
    }
   ],
   "source": [
    "for lemma in wordnet.lemmas('girl'):\n",
    "    print('lemma=', lemma)\n",
    "\n",
    "    #只用于lemma的三种关系\n",
    "    for edge in ['antonyms', 'derivationally_related_forms', 'pertainyms']:\n",
    "        for target in getattr(lemma, edge)():\n",
    "            print('edge=', edge, 'target=', target.name())\n",
    "\n",
    "    print('---------------')"
   ]
  }
 ],
 "metadata": {
  "colab": {
   "name": "02_knowledge_graph_embeddings.ipynb",
   "provenance": [],
   "toc_visible": true,
   "version": "0.3.2"
  },
  "kernelspec": {
   "display_name": "Python 3 (ipykernel)",
   "language": "python",
   "name": "python3"
  },
  "language_info": {
   "codemirror_mode": {
    "name": "ipython",
    "version": 3
   },
   "file_extension": ".py",
   "mimetype": "text/x-python",
   "name": "python",
   "nbconvert_exporter": "python",
   "pygments_lexer": "ipython3",
   "version": "3.9.13"
  }
 },
 "nbformat": 4,
 "nbformat_minor": 1
}
