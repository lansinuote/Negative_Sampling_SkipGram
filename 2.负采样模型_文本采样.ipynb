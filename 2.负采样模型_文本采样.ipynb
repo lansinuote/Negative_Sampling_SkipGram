{
 "cells": [
  {
   "cell_type": "code",
   "execution_count": 1,
   "id": "35e538ff",
   "metadata": {},
   "outputs": [
    {
     "data": {
      "text/plain": [
       "(557, list, ['q', 'w', 'e', 'r', '$', 't', 'y', 'u', 'i', 'o'])"
      ]
     },
     "execution_count": 1,
     "metadata": {},
     "output_type": "execute_result"
    }
   ],
   "source": [
    "#数据\n",
    "text = [\n",
    "    'q', 'w', 'e', 'r', '$', 't', 'y', 'u', 'i', 'o', '$', 'p', 'a', 's', 'd',\n",
    "    'f', 'g', 'h', 'j', 'k', '$', 'l', 'z', 'x', 'c', '$', 'v', 'b', 'n', 'm',\n",
    "    'q', 'w', 'e', 'a', '$', 's', 'd', 'z', 'x', '$', 'c', 'r', 't', 'y', 'f',\n",
    "    'g', 'h', '$', 'v', 'b', 'n', 'u', 'i', 'o', 'j', '$', 'k', 'l', 'm', 'q',\n",
    "    'a', 'z', 'w', 's', 'x', '$', 'e', 'd', 'c', 'r', 'f', 'v', 't', 'g', '$',\n",
    "    'b', 'y', 'h', 'n', 'u', 'j', 'm', '$', 'i', 'k', 'o', 'l', 'p', 'q', 'w',\n",
    "    'a', 's', '$', 'e', 'r', 'd', 't', 'g', 'h', 'u', 'j', '$', 'o', 'l', 'p',\n",
    "    'z', 'x', 'c', 'v', '$', 'b', 'n', 'm', 'w', 'a', 'e', 's', 'r', '$', 'd',\n",
    "    't', 'f', 'y', 'g', 'u', 'h', '$', 'i', 'j', 'o', 'k', 'p', 'l', 's', 'z',\n",
    "    '$', 'd', 'x', 'f', 'c', 'g', 'v', 'h', 'b', 'j', '$', 'n', 'k', 'm', 'l',\n",
    "    'q', '1', '2', '$', '3', '4', '5', '6', '7', '$', '8', '9', '0', '0', '9',\n",
    "    '8', '$', '7', '6', '5', '4', '$', '3', '2', '1', '1', '2', '$', '2', '3',\n",
    "    '3', '4', '4', '$', '5', '5', '6', '6', '7', '7', '$', '8', '8', '9', '0',\n",
    "    '0', '1', '9', '$', '2', '8', '3', '7', '4', '$', '6', '5', '5', '6', '4',\n",
    "    '7', '3', '8', '$', '2', '9', '1', '0', '1', '2', '3', '2', '$', '3', '4',\n",
    "    '5', '3', '4', '5', '6', '$', '4', '5', '6', '7', '4', '5', '6', '7', '$',\n",
    "    '5', '6', '7', '6', '7', '8', '7', '8', '$', '9', '8', '9', '0', 'Q', 'W',\n",
    "    'E', 'R', 'T', 'Y', 'U', '$', 'I', 'O', 'P', 'A', 'S', 'D', 'F', 'G', '$',\n",
    "    'H', 'J', 'K', 'L', 'Z', 'X', '$', 'C', 'V', 'B', 'N', 'M', 'Q', 'A', 'Z',\n",
    "    'W', 'S', 'X', 'E', 'D', 'C', 'R', 'F', 'V', 'T', 'G', 'B', 'Y', 'H', 'N',\n",
    "    'U', 'J', 'M', 'I', 'K', 'O', 'L', 'P', 'Q', 'A', 'Z', 'W', 'S', 'X', 'I',\n",
    "    'H', 'G', 'V', 'Y', 'T', 'D', 'S', 'D', 'Z', 'S', 'X', 'D', 'C', 'H', 'G',\n",
    "    'H', 'S', 'Y', 'X', 'H', 'K', 'D', 'X', 'H', 'C', 'G', 'H', 'H', 'T', 'X',\n",
    "    'F', 'C', 'G', 'D', 'R', 'X', 'F', 'C', 'G', 'H', 'J', 'D', 'U', 'T', 'S',\n",
    "    'R', 'Y', 'E', 'A', 'T', 'Q', 'E', 'W', 'H', 'D', 'F', 'G', 'L', 'I', 'U',\n",
    "    'G', 'U', 'O', 'G', 'L', 'V', 'G', 'H', 'F', 'X', 'D', 'B', 'C', 'N', 'M',\n",
    "    'X', 'F', 'Z', 'S', 'T', 'Y', 'J', 'H', 'D', 'S', 'E', 'D', 'G', 'T', 'J',\n",
    "    'D', 'S', 'W', 'A', 'Q', 'W', 'D', 'X', 'F', 'T', 'X', 'Z', 'E', 'R', 'D',\n",
    "    'T', 'F', 'H', 'G', 'H', 'K', 'G', 'U', 'F', 'U', 'G', 'P', 'I', 'G', 'L',\n",
    "    'H', 'V', 'M', 'N', 'H', 'C', 'V', 'M', 'F', 'X', 'C', 'F', 'Y', 'T', 'D',\n",
    "    'R', 'F', 'W', 'E', 'A', 'Q', 'W', 'W', 'W', 'S', 'X', 'Z', 'A', 'S', 'X',\n",
    "    'D', 'C', 'F', 'T', 'Y', 'F', 'D', 'E', 'H', 'R', 'T', 'Y', 'G', 'U', 'I',\n",
    "    'L', 'G', 'G', 'V', 'H', 'L', 'I', 'I', 'H', 'L', 'J', 'H', 'K', 'H', 'C',\n",
    "    'G', 'N', 'V', 'M', 'H', 'C', 'N', 'M', 'V', 'F', 'D', 'Y', 'F', 'G', 'H',\n",
    "    'G', 'F', 'D', 'R', 'S', 'E', 'X', 'D', 'W', 'Z', 'Q', 'W', 'Z', 'S', 'D',\n",
    "    'X', 'D', 'Z', 'W', 'Z', 'S', 'D', 'X', 'C', 'F', 'G', 'G', 'X', 'C', 'Y',\n",
    "    'F', 'T', 'G', 'H', 'P', 'G', 'V', 'H', 'J', 'H', 'C', 'V', 'H', 'M', 'C',\n",
    "    'F', 'G'\n",
    "]\n",
    "\n",
    "len(text), type(text), text[:10]"
   ]
  },
  {
   "cell_type": "code",
   "execution_count": 2,
   "id": "134e39d8",
   "metadata": {},
   "outputs": [
    {
     "data": {
      "text/plain": [
       "(tensor([0.0292, 0.0292, 0.0292, 0.0292, 0.1255, 0.0292, 0.0247, 0.0292, 0.0247,\n",
       "         0.0292, 0.0247, 0.0292, 0.0334, 0.0334, 0.0292, 0.0334, 0.0334, 0.0334,\n",
       "         0.0292, 0.0334, 0.0292, 0.0292, 0.0292, 0.0292, 0.0292, 0.0292, 0.0292,\n",
       "         0.0334, 0.0415, 0.0453, 0.0490, 0.0527, 0.0527, 0.0527, 0.0453, 0.0375,\n",
       "         0.0334, 0.0375, 0.0597, 0.0453, 0.0415, 0.0631, 0.0527, 0.0415, 0.0415,\n",
       "         0.0199, 0.0247, 0.0375, 0.0665, 0.0946, 0.0856, 0.1033, 0.1062, 0.0375,\n",
       "         0.0292, 0.0415, 0.0527, 0.0794, 0.0698, 0.0527, 0.0199, 0.0334, 0.0415]),\n",
       " 4,\n",
       " 'q')"
      ]
     },
     "execution_count": 2,
     "metadata": {},
     "output_type": "execute_result"
    }
   ],
   "source": [
    "import torch\n",
    "\n",
    "\n",
    "#统计词频,构建字典\n",
    "def get_vocab():\n",
    "    #统计词频\n",
    "    frequency = {}\n",
    "    for word in text:\n",
    "        frequency[word] = frequency.get(word, 0) + 1\n",
    "\n",
    "    #构建正反两个字典\n",
    "    decoder = list(frequency.keys())\n",
    "    encoder = {word: i for i, word in enumerate(decoder)}\n",
    "\n",
    "    #词频转词概率,3/4次方是做平滑处理,防止太过于极端的分布\n",
    "    total_count = sum(frequency.values())\n",
    "    for word, count in frequency.items():\n",
    "        frequency[word] = (count / total_count)**(3 / 4)\n",
    "\n",
    "    frequency = torch.FloatTensor(list(frequency.values()))\n",
    "\n",
    "    return frequency, encoder, decoder\n",
    "\n",
    "\n",
    "frequency, encoder, decoder = get_vocab()\n",
    "\n",
    "frequency, encoder['$'], decoder[0]"
   ]
  },
  {
   "cell_type": "code",
   "execution_count": 3,
   "id": "ebdd155a",
   "metadata": {},
   "outputs": [
    {
     "name": "stdout",
     "output_type": "stream",
     "text": [
      "x [3, 4, 5]\n",
      "positive [tensor([0, 1, 2, 4, 5, 6]), tensor([1, 2, 3, 5, 6, 7]), tensor([2, 3, 4, 6, 7, 8])]\n",
      "negative [tensor([41, 57, 59, 47, 12, 58, 42, 32, 28, 14, 39, 19]), tensor([49, 62, 42, 28, 30, 55, 52, 41, 48, 47, 51,  4]), tensor([62, 61, 54, 12, 50, 51, 23, 28, 48, 19, 44, 26])]\n"
     ]
    }
   ],
   "source": [
    "def get_datas():\n",
    "    #编码\n",
    "    sent = [encoder[word] for word in text]\n",
    "\n",
    "    #构建x,正采样和负采样\n",
    "    x = []\n",
    "    positive = []\n",
    "    negative = []\n",
    "    for i in range(3, len(sent) - 3):\n",
    "        x.append(sent[i])\n",
    "\n",
    "        pos = sent[i - 3:i + 4]\n",
    "        pos.pop(3)\n",
    "        pos = torch.LongTensor(pos)\n",
    "\n",
    "        neg = torch.multinomial(input=frequency,\n",
    "                                num_samples=12 + 6,\n",
    "                                replacement=False)\n",
    "\n",
    "        neg = neg[torch.isin(neg, pos, invert=True)]\n",
    "        neg = neg[:12]\n",
    "\n",
    "        positive.append(pos)\n",
    "        negative.append(neg)\n",
    "\n",
    "    return {'x': x, 'positive': positive, 'negative': negative}\n",
    "\n",
    "\n",
    "datas = get_datas()\n",
    "\n",
    "for k in datas.keys():\n",
    "    print(k, datas[k][:3])"
   ]
  },
  {
   "cell_type": "code",
   "execution_count": 4,
   "id": "3dabf47b",
   "metadata": {
    "scrolled": true
   },
   "outputs": [
    {
     "data": {
      "text/plain": [
       "{'x': tensor([42, 58, 39, 28, 14, 52, 16, 48]),\n",
       " 'positive': tensor([[52, 51, 59, 41, 49, 48],\n",
       "         [52, 53, 52, 59, 52, 62],\n",
       "         [47, 41, 37, 38, 52, 49],\n",
       "         [29, 34,  4, 35, 27, 36],\n",
       "         [ 3,  5,  6, 15, 16,  4],\n",
       "         [54, 49, 57, 58, 51, 52],\n",
       "         [13,  5, 15,  7, 17,  4],\n",
       "         [42, 41, 49, 49, 56, 48]]),\n",
       " 'negative': tensor([[30, 50,  9, 62, 34, 15, 39, 11, 36, 24, 29, 35],\n",
       "         [41, 47, 40, 10,  6,  5, 50, 15, 25, 37, 33,  0],\n",
       "         [19, 53,  6, 25,  4, 56, 42, 10, 34, 33, 28, 62],\n",
       "         [57, 11,  3, 10, 61, 59, 37, 49, 51, 39,  9, 28],\n",
       "         [55, 28, 61, 42, 62, 48, 45, 11, 51, 52, 20, 33],\n",
       "         [47, 31, 44, 59, 34, 24, 37, 38, 50, 39, 27,  3],\n",
       "         [52, 38, 31,  1, 30, 59, 62, 16, 37, 46, 51, 43],\n",
       "         [59, 12, 32, 33, 15, 58, 53, 44, 18, 29, 62, 45]])}"
      ]
     },
     "execution_count": 4,
     "metadata": {},
     "output_type": "execute_result"
    }
   ],
   "source": [
    "class Dataset(torch.utils.data.Dataset):\n",
    "\n",
    "    def __init__(self):\n",
    "        super(Dataset, self).__init__()\n",
    "\n",
    "    def __len__(self):\n",
    "        return len(datas['x'])\n",
    "\n",
    "    def __getitem__(self, i):\n",
    "        return {k: datas[k][i] for k in datas.keys()}\n",
    "\n",
    "\n",
    "def collate_fn(data):\n",
    "    x = [i['x'] for i in data]\n",
    "    positive = [i['positive'] for i in data]\n",
    "    negative = [i['negative'] for i in data]\n",
    "\n",
    "    x = torch.LongTensor(x)\n",
    "    positive = torch.LongTensor(positive)\n",
    "    negative = torch.LongTensor(negative)\n",
    "\n",
    "    return {'x': x, 'positive': positive, 'negative': negative}\n",
    "\n",
    "\n",
    "loader = torch.utils.data.DataLoader(Dataset(),\n",
    "                                     batch_size=8,\n",
    "                                     drop_last=True,\n",
    "                                     shuffle=True)\n",
    "\n",
    "for i, data in enumerate(loader):\n",
    "    break\n",
    "\n",
    "data"
   ]
  },
  {
   "cell_type": "code",
   "execution_count": 5,
   "id": "5b110c01",
   "metadata": {},
   "outputs": [
    {
     "data": {
      "text/plain": [
       "tensor(16.1425)"
      ]
     },
     "execution_count": 5,
     "metadata": {},
     "output_type": "execute_result"
    }
   ],
   "source": [
    "def get_cos_loss(x, positive, negative):\n",
    "    #x -> [8, 2]\n",
    "    #positive -> [8, 6, 2]\n",
    "    #negative -> [8, 12, 2]\n",
    "\n",
    "    #[8, 2] -> [8, 2, 1]\n",
    "    x = x.unsqueeze(dim=2)\n",
    "\n",
    "    #[8, 6, 2],[8, 2, 1] -> [8, 6]\n",
    "    loss_positive = torch.bmm(positive, x).squeeze(dim=2)\n",
    "\n",
    "    #[8, 12, 2],[8, 2, 1] -> [8, 12]\n",
    "    loss_negative = torch.bmm(negative, -x).squeeze(dim=2)\n",
    "\n",
    "    #[8, 6] -> [8]\n",
    "    loss_positive = loss_positive.sigmoid().log().sum(dim=1)\n",
    "\n",
    "    #[8, 12] -> [8]\n",
    "    loss_negative = loss_negative.sigmoid().log().sum(dim=1)\n",
    "\n",
    "    return -(loss_positive + loss_negative).mean()\n",
    "\n",
    "\n",
    "a, b, c = torch.randn(8, 2), torch.randn(8, 6, 2), torch.randn(8, 12, 2)\n",
    "get_cos_loss(a, b, c)"
   ]
  },
  {
   "cell_type": "code",
   "execution_count": 6,
   "id": "b5abc9fc",
   "metadata": {},
   "outputs": [
    {
     "data": {
      "text/plain": [
       "tensor(12.4766, grad_fn=<NegBackward0>)"
      ]
     },
     "execution_count": 6,
     "metadata": {},
     "output_type": "execute_result"
    }
   ],
   "source": [
    "class Model(torch.nn.Module):\n",
    "\n",
    "    def __init__(self):\n",
    "        super().__init__()\n",
    "\n",
    "        #V是词汇量\n",
    "        self.embed = torch.nn.Embedding(num_embeddings=len(frequency),\n",
    "                                        embedding_dim=2)\n",
    "\n",
    "        #初始化参数\n",
    "        self.embed.weight.data.uniform_(-0.01, 0.01)\n",
    "\n",
    "    def forward(self, x, positive, negative):\n",
    "        #编码\n",
    "        #[8] -> [8, 2]\n",
    "        x = self.embed(x)\n",
    "\n",
    "        #[8, 6] -> [8, 6, 2]\n",
    "        positive = self.embed(positive)\n",
    "\n",
    "        #[8, 12] -> [8, 12, 2]\n",
    "        negative = self.embed(negative)\n",
    "\n",
    "        return get_cos_loss(x, positive, negative)\n",
    "\n",
    "\n",
    "model = Model()\n",
    "\n",
    "out = model(**data)\n",
    "\n",
    "out"
   ]
  },
  {
   "cell_type": "code",
   "execution_count": 7,
   "id": "3d18c2af",
   "metadata": {},
   "outputs": [
    {
     "name": "stdout",
     "output_type": "stream",
     "text": [
      "a ['a', 't', 'c', 'K', 'j']\n",
      "g ['g', 'N', 'D', 's', 'Q']\n",
      "1 ['1', 'u', 'w', '8', 'Q']\n",
      "5 ['5', 'z', '9', '3', 'W']\n",
      "Q ['Q', '8', 'w', 'u', 's']\n",
      "H ['H', 'E', 'J', '$', 'd']\n"
     ]
    }
   ],
   "source": [
    "def test(test_words):\n",
    "    embed = model.embed.weight.data.clone()\n",
    "\n",
    "    for word in test_words:\n",
    "        x = embed[encoder[word]]\n",
    "        score = torch.nn.functional.cosine_similarity(x, embed)\n",
    "        topk = score.topk(k=5).indices\n",
    "        topk = [decoder[k] for k in topk]\n",
    "        print(word, topk)\n",
    "\n",
    "\n",
    "test(['a', 'g', '1', '5', 'Q', 'H'])"
   ]
  },
  {
   "cell_type": "code",
   "execution_count": 8,
   "id": "114c7958",
   "metadata": {
    "scrolled": false
   },
   "outputs": [
    {
     "name": "stdout",
     "output_type": "stream",
     "text": [
      "0 847.4184074401855\n",
      "a ['a', 'w', 'n', 'u', 'r']\n",
      "g ['g', 'z', 'o', 'e', '2']\n",
      "1 ['1', '9', '2', 'g', 'z']\n",
      "5 ['5', '8', '4', 'c', '0']\n",
      "Q ['Q', 'W', 'B', 'E', 'A']\n",
      "H ['H', 'Y', 'X', 'S', 'K']\n",
      "50 36843.85684299469\n",
      "a ['a', 'w', 'e', 's', 'g']\n",
      "g ['g', 's', 'l', 'e', 'k']\n",
      "1 ['1', '0', '2', '3', '$']\n",
      "5 ['5', '6', '7', '4', '8']\n",
      "Q ['Q', 'Z', 'A', 'W', 'E']\n",
      "H ['H', 'G', 'P', 'B', 'M']\n",
      "100 35364.87454319\n",
      "a ['a', 'e', 'w', 'g', 'x']\n",
      "g ['g', 'w', 'x', 'e', 's']\n",
      "1 ['1', '2', '3', '8', '0']\n",
      "5 ['5', '7', '0', '8', '6']\n",
      "Q ['Q', 'Z', 'A', 'S', 'W']\n",
      "H ['H', 'G', 'P', 'Y', 'C']\n",
      "150 35342.23152637482\n",
      "a ['a', 'e', 'g', 'w', 'x']\n",
      "g ['g', 'w', 'x', 'e', 's']\n",
      "1 ['1', '2', '3', '5', '7']\n",
      "5 ['5', '7', '8', '0', '6']\n",
      "Q ['Q', 'A', 'Z', 'S', 'D']\n",
      "H ['H', 'G', 'Y', 'P', 'C']\n",
      "200 35346.513944625854\n",
      "a ['a', 'e', 'g', 'w', 'x']\n",
      "g ['g', 'w', 'x', 'e', 's']\n",
      "1 ['1', '2', '3', '5', '7']\n",
      "5 ['5', '7', '8', '6', '0']\n",
      "Q ['Q', 'A', 'Z', 'S', 'D']\n",
      "H ['H', 'G', 'Y', 'P', 'C']\n"
     ]
    }
   ],
   "source": [
    "def train():\n",
    "    global model\n",
    "    device = 'cuda' if torch.cuda.is_available() else 'cpu'\n",
    "    model = model.to(device)\n",
    "\n",
    "    model.train()\n",
    "    optimizer = torch.optim.Adam(model.parameters(), lr=2e-3)\n",
    "    loss_sum = 0\n",
    "    for epoch in range(201):\n",
    "        for i, data in enumerate(loader):\n",
    "            for k in data.keys():\n",
    "                data[k] = data[k].to(device)\n",
    "            loss = model(**data)\n",
    "            optimizer.zero_grad()\n",
    "            loss.backward()\n",
    "            optimizer.step()\n",
    "\n",
    "            loss_sum += loss.item()\n",
    "\n",
    "        if epoch % 50 == 0:\n",
    "            print(epoch, loss_sum)\n",
    "            test(['a', 'g', '1', '5', 'Q', 'H'])\n",
    "            loss_sum = 0\n",
    "\n",
    "    model = model.cpu()\n",
    "\n",
    "\n",
    "train()"
   ]
  },
  {
   "cell_type": "code",
   "execution_count": 9,
   "id": "abbf6427",
   "metadata": {},
   "outputs": [
    {
     "data": {
      "image/png": "[encoded data removed]",
      "text/plain": [
       "<Figure size 640x480 with 1 Axes>"
      ]
     },
     "metadata": {},
     "output_type": "display_data"
    }
   ],
   "source": [
    "from matplotlib import pyplot as plt\n",
    "%matplotlib inline\n",
    "\n",
    "\n",
    "def show():\n",
    "\n",
    "    #缩放到0-1空间\n",
    "    W = model.embed.weight.data.clone()\n",
    "    W -= W.min(dim=0).values\n",
    "    W /= W.max(dim=0).values\n",
    "\n",
    "    for word, x in encoder.items():\n",
    "        x = W[x]\n",
    "        plt.text(x[0], x[1], word, fontsize=20)\n",
    "\n",
    "    plt.show()\n",
    "\n",
    "\n",
    "show()"
   ]
  }
 ],
 "metadata": {
  "kernelspec": {
   "display_name": "Python 3 (ipykernel)",
   "language": "python",
   "name": "python3"
  },
  "language_info": {
   "codemirror_mode": {
    "name": "ipython",
    "version": 3
   },
   "file_extension": ".py",
   "mimetype": "text/x-python",
   "name": "python",
   "nbconvert_exporter": "python",
   "pygments_lexer": "ipython3",
   "version": "3.9.13"
  }
 },
 "nbformat": 4,
 "nbformat_minor": 5
}
