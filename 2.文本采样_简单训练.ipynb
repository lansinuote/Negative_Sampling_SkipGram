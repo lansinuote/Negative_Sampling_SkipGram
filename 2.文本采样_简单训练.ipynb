{
 "cells": [
  {
   "cell_type": "code",
   "execution_count": 1,
   "id": "f3b07131",
   "metadata": {
    "scrolled": true
   },
   "outputs": [
    {
     "data": {
      "text/plain": [
       "{'0': 0,\n",
       " '1': 1,\n",
       " '2': 2,\n",
       " '3': 3,\n",
       " '4': 4,\n",
       " '5': 5,\n",
       " '6': 6,\n",
       " '7': 7,\n",
       " '8': 8,\n",
       " '9': 9,\n",
       " 'q': 10,\n",
       " 'w': 11,\n",
       " 'e': 12,\n",
       " 'r': 13,\n",
       " 't': 14,\n",
       " 'y': 15,\n",
       " 'u': 16,\n",
       " 'i': 17,\n",
       " 'o': 18,\n",
       " 'p': 19,\n",
       " 'a': 20,\n",
       " 's': 21,\n",
       " 'd': 22,\n",
       " 'f': 23,\n",
       " 'g': 24,\n",
       " 'h': 25,\n",
       " 'j': 26,\n",
       " 'k': 27,\n",
       " 'l': 28,\n",
       " 'z': 29,\n",
       " 'x': 30,\n",
       " 'c': 31,\n",
       " 'v': 32,\n",
       " 'b': 33,\n",
       " 'n': 34,\n",
       " 'm': 35,\n",
       " 'Q': 36,\n",
       " 'W': 37,\n",
       " 'E': 38,\n",
       " 'R': 39,\n",
       " 'T': 40,\n",
       " 'Y': 41,\n",
       " 'U': 42,\n",
       " 'I': 43,\n",
       " 'O': 44,\n",
       " 'P': 45,\n",
       " 'A': 46,\n",
       " 'S': 47,\n",
       " 'D': 48,\n",
       " 'F': 49,\n",
       " 'G': 50,\n",
       " 'H': 51,\n",
       " 'J': 52,\n",
       " 'K': 53,\n",
       " 'L': 54,\n",
       " 'Z': 55,\n",
       " 'X': 56,\n",
       " 'C': 57,\n",
       " 'V': 58,\n",
       " 'B': 59,\n",
       " 'N': 60,\n",
       " 'M': 61,\n",
       " '$': 62}"
      ]
     },
     "execution_count": 1,
     "metadata": {},
     "output_type": "execute_result"
    }
   ],
   "source": [
    "#字典\n",
    "vocab = '0123456789qwertyuiopasdfghjklzxcvbnmQWERTYUIOPASDFGHJKLZXCVBNM$'\n",
    "vocab = {word: i for i, word in enumerate(vocab)}\n",
    "\n",
    "vocab"
   ]
  },
  {
   "cell_type": "code",
   "execution_count": 2,
   "id": "35e538ff",
   "metadata": {},
   "outputs": [
    {
     "data": {
      "text/plain": [
       "(557, [10, 11, 12, 13, 62, 14, 15, 16, 17, 18])"
      ]
     },
     "execution_count": 2,
     "metadata": {},
     "output_type": "execute_result"
    }
   ],
   "source": [
    "#数据\n",
    "text = 'qwer$tyuio$pasdfghjk$lzxc$vbnmqwea$sdzx$crtyfgh$vbnuioj$klmqazwsx$edcrfvtg$byhnujm$ikolpqwas$erdtghuj$olpzxcv$bnmwaesr$dtfyguh$ijokplsz$dxfcgvhbj$nkmlq12$34567$890098$7654$32112$23344$556677$8890019$28374$65564738$29101232$3453456$45674567$56767878$9890QWERTYU$IOPASDFG$HJKLZX$CVBNMQAZWSXEDCRFVTGBYHNUJMIKOLPQAZWSXIHGVYTDSDZSXDCHGHSYXHKDXHCGHHTXFCGDRXFCGHJDUTSRYEATQEWHDFGLIUGUOGLVGHFXDBCNMXFZSTYJHDSEDGTJDSWAQWDXFTXZERDTFHGHKGUFUGPIGLHVMNHCVMFXCFYTDRFWEAQWWWSXZASXDCFTYFDEHRTYGUILGGVHLIIHLJHKHCGNVMHCNMVFDYFGHGFDRSEXDWZQWZSDXDZWZSDXCFGGXCYFTGHPGVHJHCVHMCFG'\n",
    "\n",
    "#编码\n",
    "text = [vocab[i] for i in text]\n",
    "\n",
    "len(text), text[:10]"
   ]
  },
  {
   "cell_type": "code",
   "execution_count": 3,
   "id": "b325ae56",
   "metadata": {},
   "outputs": [
    {
     "data": {
      "text/plain": [
       "(0, [8, 9, 0, 1, 9, 62], [5, 32, 15, 2, 42, 50, 58, 57, 38, 57, 10, 51])"
      ]
     },
     "execution_count": 3,
     "metadata": {},
     "output_type": "execute_result"
    }
   ],
   "source": [
    "import random\n",
    "\n",
    "\n",
    "def get_data():\n",
    "    i = random.randint(3, len(text) - 4)\n",
    "    x = text[i]\n",
    "\n",
    "    pos = text[i - 3:i + 4]\n",
    "    pos.pop(3)\n",
    "\n",
    "    neg = []\n",
    "    while len(neg) != 12:\n",
    "        neg = random.sample(text, 12 + 6)\n",
    "        neg = [i for i in neg if i not in pos]\n",
    "        neg = neg[:12]\n",
    "\n",
    "    return x, pos, neg\n",
    "\n",
    "\n",
    "get_data()"
   ]
  },
  {
   "cell_type": "code",
   "execution_count": 4,
   "id": "f1108c5a",
   "metadata": {},
   "outputs": [
    {
     "data": {
      "text/plain": [
       "(tensor([58, 52, 51, 24,  0, 43,  0, 47]),\n",
       " tensor([[60, 51, 57, 61, 49, 56],\n",
       "         [47, 40, 41, 51, 48, 47],\n",
       "         [40, 41, 52, 48, 47, 38],\n",
       "         [13, 22, 14, 25, 16, 26],\n",
       "         [ 9,  8,  9, 36, 37, 38],\n",
       "         [42, 52, 61, 53, 44, 54],\n",
       "         [62,  8,  9,  0,  9,  8],\n",
       "         [37, 37, 37, 56, 55, 46]]),\n",
       " tensor([[62, 54, 11, 24, 20, 41, 50, 39, 62, 37,  8, 41],\n",
       "         [54, 36, 61,  4,  8, 14, 58,  5, 62, 55, 56, 17],\n",
       "         [57, 45, 46, 31, 35, 42, 56, 18, 26,  7, 13, 62],\n",
       "         [ 3, 43, 46, 62, 27, 12, 54, 30,  6, 39, 50,  1],\n",
       "         [10, 20, 46, 22, 62, 46, 20, 56, 51, 62, 50, 62],\n",
       "         [35, 51,  6, 62,  4, 40, 49, 29, 41,  4, 55, 34],\n",
       "         [36, 51, 14, 61, 55,  7, 50,  3, 51, 50, 41, 51],\n",
       "         [62, 49, 50, 51,  6, 12, 61, 18, 32, 48, 38,  1]]))"
      ]
     },
     "execution_count": 4,
     "metadata": {},
     "output_type": "execute_result"
    }
   ],
   "source": [
    "import torch\n",
    "\n",
    "\n",
    "def get_batch():\n",
    "    x = []\n",
    "    pos = []\n",
    "    neg = []\n",
    "    for _ in range(8):\n",
    "        data = get_data()\n",
    "        x.append(data[0])\n",
    "        pos.append(data[1])\n",
    "        neg.append(data[2])\n",
    "\n",
    "    x = torch.LongTensor(x)\n",
    "    pos = torch.LongTensor(pos)\n",
    "    neg = torch.LongTensor(neg)\n",
    "\n",
    "    return x, pos, neg\n",
    "\n",
    "\n",
    "get_batch()"
   ]
  },
  {
   "cell_type": "code",
   "execution_count": 5,
   "id": "5b110c01",
   "metadata": {},
   "outputs": [
    {
     "data": {
      "text/plain": [
       "tensor(16.0323)"
      ]
     },
     "execution_count": 5,
     "metadata": {},
     "output_type": "execute_result"
    }
   ],
   "source": [
    "def get_cos_loss(x, pos, neg):\n",
    "    #x -> [8, 2]\n",
    "    #pos -> [8, 6, 2]\n",
    "    #neg -> [8, 12, 2]\n",
    "\n",
    "    #[8, 2] -> [8, 2, 1]\n",
    "    x = x.unsqueeze(dim=2)\n",
    "\n",
    "    #[8, 6, 2],[8, 2, 1] -> [8, 6]\n",
    "    loss_pos = torch.bmm(pos, x).squeeze(dim=2)\n",
    "\n",
    "    #[8, 12, 2],[8, 2, 1] -> [8, 12]\n",
    "    loss_neg = torch.bmm(neg, -x).squeeze(dim=2)\n",
    "\n",
    "    #[8, 6] -> [8]\n",
    "    loss_pos = loss_pos.sigmoid().log().sum(dim=1)\n",
    "\n",
    "    #[8, 12] -> [8]\n",
    "    loss_neg = loss_neg.sigmoid().log().sum(dim=1)\n",
    "\n",
    "    return -(loss_pos + loss_neg).mean()\n",
    "\n",
    "\n",
    "a, b, c = torch.randn(8, 2), torch.randn(8, 6, 2), torch.randn(8, 12, 2)\n",
    "get_cos_loss(a, b, c)"
   ]
  },
  {
   "cell_type": "code",
   "execution_count": 6,
   "id": "b5abc9fc",
   "metadata": {},
   "outputs": [
    {
     "data": {
      "text/plain": [
       "tensor(12.4767, grad_fn=<NegBackward0>)"
      ]
     },
     "execution_count": 6,
     "metadata": {},
     "output_type": "execute_result"
    }
   ],
   "source": [
    "class Model(torch.nn.Module):\n",
    "\n",
    "    def __init__(self):\n",
    "        super().__init__()\n",
    "\n",
    "        #V是词汇量\n",
    "        self.embed = torch.nn.Embedding(num_embeddings=len(vocab),\n",
    "                                        embedding_dim=2)\n",
    "\n",
    "        #初始化参数\n",
    "        self.embed.weight.data.uniform_(-0.01, 0.01)\n",
    "\n",
    "    def forward(self, x, pos, neg):\n",
    "        #编码\n",
    "        #[8] -> [8, 2]\n",
    "        x = self.embed(x)\n",
    "\n",
    "        #[8, 6] -> [8, 6, 2]\n",
    "        pos = self.embed(pos)\n",
    "\n",
    "        #[8, 12] -> [8, 12, 2]\n",
    "        neg = self.embed(neg)\n",
    "\n",
    "        return get_cos_loss(x, pos, neg)\n",
    "\n",
    "\n",
    "model = Model()\n",
    "\n",
    "model(*get_batch())"
   ]
  },
  {
   "cell_type": "code",
   "execution_count": 7,
   "id": "3d18c2af",
   "metadata": {},
   "outputs": [
    {
     "name": "stdout",
     "output_type": "stream",
     "text": [
      "a ['a', 'D', 'J', 'B', '7']\n",
      "g ['g', 'c', '1', 'E', 'i']\n",
      "1 ['1', 'g', 'c', 'E', 'o']\n",
      "5 ['5', 'h', 'O', 'Q', 'j']\n",
      "Q ['Q', 'j', 'V', 'W', 'H']\n",
      "H ['H', 'W', 'V', 'Z', 'j']\n"
     ]
    }
   ],
   "source": [
    "def test(test_words):\n",
    "    embed = model.embed.weight.data.clone()\n",
    "\n",
    "    for word in test_words:\n",
    "        x = embed[vocab[word]]\n",
    "        score = torch.nn.functional.cosine_similarity(x, embed)\n",
    "        topk = score.topk(k=5).indices\n",
    "        topk = [list(vocab.keys())[k] for k in topk]\n",
    "        print(word, topk)\n",
    "\n",
    "\n",
    "test(['a', 'g', '1', '5', 'Q', 'H'])"
   ]
  },
  {
   "cell_type": "code",
   "execution_count": 8,
   "id": "114c7958",
   "metadata": {
    "scrolled": false
   },
   "outputs": [
    {
     "name": "stdout",
     "output_type": "stream",
     "text": [
      "0 12.476634979248047\n",
      "a ['a', 'b', 'f', 'D', 'J']\n",
      "g ['g', 'T', 'F', 'N', 'o']\n",
      "1 ['1', 'd', 'U', 'o', 'c']\n",
      "5 ['5', 'h', 'l', 'Q', 'O']\n",
      "Q ['Q', 'M', 'h', '5', 'l']\n",
      "H ['H', 'Z', '2', 'W', '4']\n",
      "5000 52715.53375816345\n",
      "a ['a', 'p', 't', 'n', 'b']\n",
      "g ['g', 'r', 'f', 'y', 'u']\n",
      "1 ['1', '2', '3', '5', '4']\n",
      "5 ['5', '4', '3', '6', '8']\n",
      "Q ['Q', 'W', 'Z', 'A', 'E']\n",
      "H ['H', 'J', 'N', 'G', 'B']\n",
      "10000 51967.27362918854\n",
      "a ['a', 'v', 'h', 'd', 't']\n",
      "g ['g', 'y', 'f', 'c', 'p']\n",
      "1 ['1', '2', '3', '5', '6']\n",
      "5 ['5', '6', '3', '4', '9']\n",
      "Q ['Q', 'W', 'A', 'Z', 'E']\n",
      "H ['H', 'G', 'M', 'N', 'J']\n",
      "15000 52000.14361667633\n",
      "a ['a', 't', 'p', 'y', 'd']\n",
      "g ['g', 'r', 'y', 'p', 't']\n",
      "1 ['1', '2', '5', '4', '8']\n",
      "5 ['5', '4', '8', '3', '6']\n",
      "Q ['Q', 'W', 'A', 'Z', 'E']\n",
      "H ['H', 'N', 'B', 'G', 'J']\n",
      "20000 51965.81689739227\n",
      "a ['a', 'v', 'c', 'p', 't']\n",
      "g ['g', 'b', 'f', 'y', 't']\n",
      "1 ['1', '2', '3', '8', '5']\n",
      "5 ['5', '6', '8', '7', '3']\n",
      "Q ['Q', 'W', 'A', 'Z', 'E']\n",
      "H ['H', 'J', 'M', 'G', 'B']\n"
     ]
    }
   ],
   "source": [
    "def train():\n",
    "    global model\n",
    "    device = 'cuda' if torch.cuda.is_available() else 'cpu'\n",
    "    model = model.to(device)\n",
    "\n",
    "    model.train()\n",
    "    optimizer = torch.optim.Adam(model.parameters(), lr=2e-3)\n",
    "    loss_sum = 0\n",
    "    for epoch in range(20001):\n",
    "        batch = get_batch()\n",
    "        batch = [i.to(device) for i in batch]\n",
    "\n",
    "        loss = model(*batch)\n",
    "        optimizer.zero_grad()\n",
    "        loss.backward()\n",
    "        optimizer.step()\n",
    "\n",
    "        loss_sum += loss.item()\n",
    "\n",
    "        if epoch % 5000 == 0:\n",
    "            print(epoch, loss_sum)\n",
    "            test(['a', 'g', '1', '5', 'Q', 'H'])\n",
    "            loss_sum = 0\n",
    "\n",
    "    model = model.cpu()\n",
    "\n",
    "\n",
    "train()"
   ]
  },
  {
   "cell_type": "code",
   "execution_count": 9,
   "id": "abbf6427",
   "metadata": {},
   "outputs": [
    {
     "data": {
      "image/png": "[encoded data removed]",
      "text/plain": [
       "<Figure size 640x480 with 1 Axes>"
      ]
     },
     "metadata": {},
     "output_type": "display_data"
    }
   ],
   "source": [
    "from matplotlib import pyplot as plt\n",
    "%matplotlib inline\n",
    "\n",
    "\n",
    "def show():\n",
    "\n",
    "    #缩放到0-1空间\n",
    "    embed = model.embed.weight.data.clone()\n",
    "    embed -= embed.min(dim=0).values\n",
    "    embed /= embed.max(dim=0).values\n",
    "\n",
    "    for word, x in vocab.items():\n",
    "        x = embed[x]\n",
    "        plt.text(x[0], x[1], word, fontsize=20)\n",
    "\n",
    "    plt.show()\n",
    "\n",
    "\n",
    "show()"
   ]
  }
 ],
 "metadata": {
  "kernelspec": {
   "display_name": "Python 3 (ipykernel)",
   "language": "python",
   "name": "python3"
  },
  "language_info": {
   "codemirror_mode": {
    "name": "ipython",
    "version": 3
   },
   "file_extension": ".py",
   "mimetype": "text/x-python",
   "name": "python",
   "nbconvert_exporter": "python",
   "pygments_lexer": "ipython3",
   "version": "3.9.13"
  }
 },
 "nbformat": 4,
 "nbformat_minor": 5
}
